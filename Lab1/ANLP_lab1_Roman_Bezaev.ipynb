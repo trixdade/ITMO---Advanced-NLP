{
 "cells": [
  {
   "cell_type": "markdown",
   "metadata": {
    "id": "g-IAo9sYDMU-"
   },
   "source": [
    "# Data cleaning"
   ]
  },
  {
   "cell_type": "markdown",
   "metadata": {
    "id": "-SNyjuGjDMU_"
   },
   "source": [
    "The task is to clear the text data of the crawled web-pages from different sites. \n",
    "\n",
    "It is necessary to ensure that the distribution of the 100 most frequent words includes only meaningful words in english language (not particles, conjunctions, prepositions, numbers, tags, symbols)."
   ]
  },
  {
   "cell_type": "markdown",
   "metadata": {
    "id": "TA4VkGl2DMVB"
   },
   "source": [
    "Determine the order of operations below and carry out the appropriate cleaning.\n",
    "\n",
    "1. Remove non-english words\n",
    "1. Remove html-tags (try to do it with regular expression, or play with beautifulsoap library)\n",
    "1. Apply lemmatization / stemming\n",
    "1. Remove stop-words\n",
    "1. Additional processing - At your own initiative, if this helps to obtain a better distribution"
   ]
  },
  {
   "cell_type": "markdown",
   "metadata": {
    "id": "KCbTa1OiDMVE"
   },
   "source": [
    "#### Data reading"
   ]
  },
  {
   "cell_type": "code",
   "execution_count": 17,
   "metadata": {
    "id": "HN8UxSDkDMVH"
   },
   "outputs": [
    {
     "name": "stderr",
     "output_type": "stream",
     "text": [
      "Exception ignored in: <function ARTM.__del__ at 0x000002D0E5606310>\n",
      "Traceback (most recent call last):\n",
      "  File \"C:\\BigARTM\\python\\artm\\artm_model.py\", line 252, in __del__\n",
      "    self.dispose()\n",
      "  File \"C:\\BigARTM\\python\\artm\\artm_model.py\", line 244, in dispose\n",
      "    if self._master is not None:\n",
      "AttributeError: 'ARTM' object has no attribute '_master'\n"
     ]
    }
   ],
   "source": [
    "import pandas as pd\n",
    "import numpy as np\n",
    "import matplotlib.pyplot as plt\n",
    "import nltk\n",
    "from nltk.stem import WordNetLemmatizer\n",
    "from nltk.tokenize import TreebankWordTokenizer\n",
    "from nltk.corpus import stopwords\n",
    "\n",
    "from bs4 import BeautifulSoup\n",
    "import re\n",
    "from tqdm import tqdm"
   ]
  },
  {
   "cell_type": "markdown",
   "metadata": {
    "id": "fGBTg9g4DMVJ"
   },
   "source": [
    "#### Data processing"
   ]
  },
  {
   "cell_type": "markdown",
   "metadata": {},
   "source": [
    "The dataset for this part can be downloaded here: `https://drive.google.com/file/d/1wLwo83J-ikCCZY2RAoYx8NghaSaQ-lBA/view?usp=sharing`"
   ]
  },
  {
   "cell_type": "code",
   "execution_count": 18,
   "metadata": {
    "id": "nbpM3QUwDMVK"
   },
   "outputs": [],
   "source": [
    "df_plain = pd.read_csv(\"web_sites_data.csv\")"
   ]
  },
  {
   "cell_type": "code",
   "execution_count": 19,
   "metadata": {
    "id": "Hklvhb6RDMVL"
   },
   "outputs": [],
   "source": [
    "df_plain = df_plain[:1000:]"
   ]
  },
  {
   "cell_type": "code",
   "execution_count": 20,
   "metadata": {},
   "outputs": [
    {
     "name": "stderr",
     "output_type": "stream",
     "text": [
      "[nltk_data] Downloading package words to\n",
      "[nltk_data]     C:\\Users\\Роман\\AppData\\Roaming\\nltk_data...\n",
      "[nltk_data]   Package words is already up-to-date!\n"
     ]
    }
   ],
   "source": [
    "nltk.download('words')\n",
    "words = set(nltk.corpus.words.words())"
   ]
  },
  {
   "cell_type": "code",
   "execution_count": 21,
   "metadata": {
    "id": "H59-VAGmDMVM"
   },
   "outputs": [],
   "source": [
    "def clean_text(html_page):\n",
    "    # Remove html text\n",
    "    soup = BeautifulSoup(html_page)\n",
    "    soup = soup.get_text()\n",
    "\n",
    "    # Remove some bad symbols\n",
    "    text = re.sub(r\"\\n\", \" \", soup)\n",
    "\n",
    "    # Lower case everything\n",
    "    text = text.lower()\n",
    "\n",
    "    # remove symbols and numbers\n",
    "    text = re.sub(r\"\\xa0\", \" \", text)\n",
    "    text = re.sub(r\"[^A-Za-z]\", \" \", text)\n",
    "\n",
    "    # Remove non-english words\n",
    "    text = \" \".join(w for w in nltk.wordpunct_tokenize(text)\n",
    "                    if w.lower() in words or not w.isalpha())\n",
    "\n",
    "    # tokenizing\n",
    "    tokens = TreebankWordTokenizer().tokenize(text)\n",
    "\n",
    "    # remove stop words\n",
    "    stop_words = stopwords.words(\"english\")\n",
    "    tokens = [token for token in tokens if token not in stop_words]\n",
    "\n",
    "    # lemmatize\n",
    "    lemmatizer = WordNetLemmatizer()\n",
    "    tokens = [lemmatizer.lemmatize(token) for token in tokens]\n",
    "\n",
    "    # make a text\n",
    "    text = \" \".join(tokens)\n",
    "    return text"
   ]
  },
  {
   "cell_type": "code",
   "execution_count": 22,
   "metadata": {},
   "outputs": [],
   "source": [
    "df = pd.DataFrame(data={'text': df_plain.text.apply(clean_text)})"
   ]
  },
  {
   "cell_type": "code",
   "execution_count": 23,
   "metadata": {},
   "outputs": [
    {
     "data": {
      "text/html": [
       "<div>\n",
       "<style scoped>\n",
       "    .dataframe tbody tr th:only-of-type {\n",
       "        vertical-align: middle;\n",
       "    }\n",
       "\n",
       "    .dataframe tbody tr th {\n",
       "        vertical-align: top;\n",
       "    }\n",
       "\n",
       "    .dataframe thead th {\n",
       "        text-align: right;\n",
       "    }\n",
       "</style>\n",
       "<table border=\"1\" class=\"dataframe\">\n",
       "  <thead>\n",
       "    <tr style=\"text-align: right;\">\n",
       "      <th></th>\n",
       "      <th>text</th>\n",
       "    </tr>\n",
       "  </thead>\n",
       "  <tbody>\n",
       "    <tr>\n",
       "      <th>0</th>\n",
       "      <td>eric love war eric love war author eric title ...</td>\n",
       "    </tr>\n",
       "    <tr>\n",
       "      <th>1</th>\n",
       "      <td>eric short walk eric short walk author eric ti...</td>\n",
       "    </tr>\n",
       "    <tr>\n",
       "      <th>2</th>\n",
       "      <td>poetry unabridged poetry unabridged author tit...</td>\n",
       "    </tr>\n",
       "    <tr>\n",
       "      <th>3</th>\n",
       "      <td>uncle cabin uncle cabin author title uncle cab...</td>\n",
       "    </tr>\n",
       "    <tr>\n",
       "      <th>4</th>\n",
       "      <td>consider lily consider lily author title consi...</td>\n",
       "    </tr>\n",
       "  </tbody>\n",
       "</table>\n",
       "</div>"
      ],
      "text/plain": [
       "                                                text\n",
       "0  eric love war eric love war author eric title ...\n",
       "1  eric short walk eric short walk author eric ti...\n",
       "2  poetry unabridged poetry unabridged author tit...\n",
       "3  uncle cabin uncle cabin author title uncle cab...\n",
       "4  consider lily consider lily author title consi..."
      ]
     },
     "execution_count": 23,
     "metadata": {},
     "output_type": "execute_result"
    }
   ],
   "source": [
    "df.head()"
   ]
  },
  {
   "cell_type": "markdown",
   "metadata": {
    "id": "HTu83iAWDMVN"
   },
   "source": [
    "#### Vizualization"
   ]
  },
  {
   "cell_type": "code",
   "execution_count": 24,
   "metadata": {
    "id": "bHX6IXcrDMVO"
   },
   "outputs": [],
   "source": [
    "from collections import Counter\n",
    "common_words = Counter(\" \".join(df[\"text\"]).split()).most_common(100)"
   ]
  },
  {
   "cell_type": "code",
   "execution_count": 25,
   "metadata": {},
   "outputs": [],
   "source": [
    "y = [count for tag, count in common_words]\n",
    "x = [tag for tag, count in common_words]"
   ]
  },
  {
   "cell_type": "code",
   "execution_count": 41,
   "metadata": {},
   "outputs": [
    {
     "data": {
      "image/png": "[encoded data removed]",
      "text/plain": [
       "<Figure size 1440x936 with 1 Axes>"
      ]
     },
     "metadata": {
      "needs_background": "light"
     },
     "output_type": "display_data"
    }
   ],
   "source": [
    "# via plt\n",
    "plt.figure(figsize=(20, 13))\n",
    "plt.bar(x, y)\n",
    "plt.xticks(rotation=-90)\n",
    "plt.show()"
   ]
  },
  {
   "cell_type": "code",
   "execution_count": 39,
   "metadata": {},
   "outputs": [
    {
     "data": {
      "application/vnd.plotly.v1+json": {
       "config": {
        "plotlyServerURL": "https://plot.ly"
       },
       "data": [
        {
         "alignmentgroup": "True",
         "hovertemplate": "x=%{x}<br>y=%{y}<extra></extra>",
         "legendgroup": "",
         "marker": {
          "color": "#636efa",
          "pattern": {
           "shape": ""
          }
         },
         "name": "",
         "offsetgroup": "",
         "orientation": "v",
         "showlegend": false,
         "textposition": "auto",
         "type": "bar",
         "x": [
          "kindle",
          "book",
          "u",
          "free",
          "customer",
          "cloud",
          "new",
          "review",
          "publisher",
          "help",
          "audio",
          "home",
          "see",
          "list",
          "product",
          "music",
          "feedback",
          "read",
          "search",
          "star",
          "date",
          "paperback",
          "video",
          "prime",
          "history",
          "like",
          "instant",
          "author",
          "wish",
          "edition",
          "shipping",
          "x",
          "first",
          "audible",
          "nook",
          "one",
          "sport",
          "store",
          "fire",
          "baby",
          "drive",
          "player",
          "clothing",
          "would",
          "health",
          "item",
          "find",
          "buy",
          "contact",
          "sell",
          "write",
          "android",
          "used",
          "time",
          "beauty",
          "digital",
          "pub",
          "easy",
          "library",
          "cart",
          "electronics",
          "life",
          "fiction",
          "best",
          "account",
          "please",
          "helpful",
          "good",
          "show",
          "get",
          "reading",
          "available",
          "guide",
          "b",
          "description",
          "collins",
          "give",
          "make",
          "learn",
          "business",
          "sign",
          "mac",
          "shop",
          "day",
          "print",
          "add",
          "million",
          "advanced",
          "shopping",
          "price",
          "back",
          "manage",
          "way",
          "gift",
          "weight",
          "hand",
          "automotive",
          "industrial",
          "grocery",
          "also"
         ],
         "xaxis": "x",
         "y": [
          5102,
          3643,
          3331,
          3287,
          3081,
          2983,
          2977,
          2895,
          2642,
          2585,
          2584,
          2497,
          2460,
          2294,
          2228,
          2177,
          2144,
          2093,
          2072,
          2068,
          2041,
          1974,
          1922,
          1886,
          1837,
          1809,
          1702,
          1675,
          1528,
          1509,
          1496,
          1485,
          1433,
          1365,
          1347,
          1337,
          1318,
          1301,
          1298,
          1297,
          1294,
          1278,
          1272,
          1240,
          1231,
          1212,
          1198,
          1190,
          1178,
          1175,
          1168,
          1166,
          1139,
          1132,
          1114,
          1108,
          1103,
          1089,
          1071,
          1070,
          1060,
          1054,
          1053,
          1051,
          1051,
          1050,
          1047,
          1039,
          1031,
          1030,
          1025,
          1022,
          1012,
          1010,
          991,
          985,
          982,
          977,
          971,
          970,
          956,
          952,
          944,
          941,
          936,
          908,
          872,
          870,
          868,
          860,
          859,
          859,
          856,
          851,
          850,
          850,
          850,
          850,
          849,
          820
         ],
         "yaxis": "y"
        }
       ],
       "layout": {
        "barmode": "relative",
        "height": 500,
        "legend": {
         "tracegroupgap": 0
        },
        "template": {
         "data": {
          "bar": [
           {
            "error_x": {
             "color": "#2a3f5f"
            },
            "error_y": {
             "color": "#2a3f5f"
            },
            "marker": {
             "line": {
              "color": "#E5ECF6",
              "width": 0.5
             },
             "pattern": {
              "fillmode": "overlay",
              "size": 10,
              "solidity": 0.2
             }
            },
            "type": "bar"
           }
          ],
          "barpolar": [
           {
            "marker": {
             "line": {
              "color": "#E5ECF6",
              "width": 0.5
             },
             "pattern": {
              "fillmode": "overlay",
              "size": 10,
              "solidity": 0.2
             }
            },
            "type": "barpolar"
           }
          ],
          "carpet": [
           {
            "aaxis": {
             "endlinecolor": "#2a3f5f",
             "gridcolor": "white",
             "linecolor": "white",
             "minorgridcolor": "white",
             "startlinecolor": "#2a3f5f"
            },
            "baxis": {
             "endlinecolor": "#2a3f5f",
             "gridcolor": "white",
             "linecolor": "white",
             "minorgridcolor": "white",
             "startlinecolor": "#2a3f5f"
            },
            "type": "carpet"
           }
          ],
          "choropleth": [
           {
            "colorbar": {
             "outlinewidth": 0,
             "ticks": ""
            },
            "type": "choropleth"
           }
          ],
          "contour": [
           {
            "colorbar": {
             "outlinewidth": 0,
             "ticks": ""
            },
            "colorscale": [
             [
              0,
              "#0d0887"
             ],
             [
              0.1111111111111111,
              "#46039f"
             ],
             [
              0.2222222222222222,
              "#7201a8"
             ],
             [
              0.3333333333333333,
              "#9c179e"
             ],
             [
              0.4444444444444444,
              "#bd3786"
             ],
             [
              0.5555555555555556,
              "#d8576b"
             ],
             [
              0.6666666666666666,
              "#ed7953"
             ],
             [
              0.7777777777777778,
              "#fb9f3a"
             ],
             [
              0.8888888888888888,
              "#fdca26"
             ],
             [
              1,
              "#f0f921"
             ]
            ],
            "type": "contour"
           }
          ],
          "contourcarpet": [
           {
            "colorbar": {
             "outlinewidth": 0,
             "ticks": ""
            },
            "type": "contourcarpet"
           }
          ],
          "heatmap": [
           {
            "colorbar": {
             "outlinewidth": 0,
             "ticks": ""
            },
            "colorscale": [
             [
              0,
              "#0d0887"
             ],
             [
              0.1111111111111111,
              "#46039f"
             ],
             [
              0.2222222222222222,
              "#7201a8"
             ],
             [
              0.3333333333333333,
              "#9c179e"
             ],
             [
              0.4444444444444444,
              "#bd3786"
             ],
             [
              0.5555555555555556,
              "#d8576b"
             ],
             [
              0.6666666666666666,
              "#ed7953"
             ],
             [
              0.7777777777777778,
              "#fb9f3a"
             ],
             [
              0.8888888888888888,
              "#fdca26"
             ],
             [
              1,
              "#f0f921"
             ]
            ],
            "type": "heatmap"
           }
          ],
          "heatmapgl": [
           {
            "colorbar": {
             "outlinewidth": 0,
             "ticks": ""
            },
            "colorscale": [
             [
              0,
              "#0d0887"
             ],
             [
              0.1111111111111111,
              "#46039f"
             ],
             [
              0.2222222222222222,
              "#7201a8"
             ],
             [
              0.3333333333333333,
              "#9c179e"
             ],
             [
              0.4444444444444444,
              "#bd3786"
             ],
             [
              0.5555555555555556,
              "#d8576b"
             ],
             [
              0.6666666666666666,
              "#ed7953"
             ],
             [
              0.7777777777777778,
              "#fb9f3a"
             ],
             [
              0.8888888888888888,
              "#fdca26"
             ],
             [
              1,
              "#f0f921"
             ]
            ],
            "type": "heatmapgl"
           }
          ],
          "histogram": [
           {
            "marker": {
             "pattern": {
              "fillmode": "overlay",
              "size": 10,
              "solidity": 0.2
             }
            },
            "type": "histogram"
           }
          ],
          "histogram2d": [
           {
            "colorbar": {
             "outlinewidth": 0,
             "ticks": ""
            },
            "colorscale": [
             [
              0,
              "#0d0887"
             ],
             [
              0.1111111111111111,
              "#46039f"
             ],
             [
              0.2222222222222222,
              "#7201a8"
             ],
             [
              0.3333333333333333,
              "#9c179e"
             ],
             [
              0.4444444444444444,
              "#bd3786"
             ],
             [
              0.5555555555555556,
              "#d8576b"
             ],
             [
              0.6666666666666666,
              "#ed7953"
             ],
             [
              0.7777777777777778,
              "#fb9f3a"
             ],
             [
              0.8888888888888888,
              "#fdca26"
             ],
             [
              1,
              "#f0f921"
             ]
            ],
            "type": "histogram2d"
           }
          ],
          "histogram2dcontour": [
           {
            "colorbar": {
             "outlinewidth": 0,
             "ticks": ""
            },
            "colorscale": [
             [
              0,
              "#0d0887"
             ],
             [
              0.1111111111111111,
              "#46039f"
             ],
             [
              0.2222222222222222,
              "#7201a8"
             ],
             [
              0.3333333333333333,
              "#9c179e"
             ],
             [
              0.4444444444444444,
              "#bd3786"
             ],
             [
              0.5555555555555556,
              "#d8576b"
             ],
             [
              0.6666666666666666,
              "#ed7953"
             ],
             [
              0.7777777777777778,
              "#fb9f3a"
             ],
             [
              0.8888888888888888,
              "#fdca26"
             ],
             [
              1,
              "#f0f921"
             ]
            ],
            "type": "histogram2dcontour"
           }
          ],
          "mesh3d": [
           {
            "colorbar": {
             "outlinewidth": 0,
             "ticks": ""
            },
            "type": "mesh3d"
           }
          ],
          "parcoords": [
           {
            "line": {
             "colorbar": {
              "outlinewidth": 0,
              "ticks": ""
             }
            },
            "type": "parcoords"
           }
          ],
          "pie": [
           {
            "automargin": true,
            "type": "pie"
           }
          ],
          "scatter": [
           {
            "marker": {
             "colorbar": {
              "outlinewidth": 0,
              "ticks": ""
             }
            },
            "type": "scatter"
           }
          ],
          "scatter3d": [
           {
            "line": {
             "colorbar": {
              "outlinewidth": 0,
              "ticks": ""
             }
            },
            "marker": {
             "colorbar": {
              "outlinewidth": 0,
              "ticks": ""
             }
            },
            "type": "scatter3d"
           }
          ],
          "scattercarpet": [
           {
            "marker": {
             "colorbar": {
              "outlinewidth": 0,
              "ticks": ""
             }
            },
            "type": "scattercarpet"
           }
          ],
          "scattergeo": [
           {
            "marker": {
             "colorbar": {
              "outlinewidth": 0,
              "ticks": ""
             }
            },
            "type": "scattergeo"
           }
          ],
          "scattergl": [
           {
            "marker": {
             "colorbar": {
              "outlinewidth": 0,
              "ticks": ""
             }
            },
            "type": "scattergl"
           }
          ],
          "scattermapbox": [
           {
            "marker": {
             "colorbar": {
              "outlinewidth": 0,
              "ticks": ""
             }
            },
            "type": "scattermapbox"
           }
          ],
          "scatterpolar": [
           {
            "marker": {
             "colorbar": {
              "outlinewidth": 0,
              "ticks": ""
             }
            },
            "type": "scatterpolar"
           }
          ],
          "scatterpolargl": [
           {
            "marker": {
             "colorbar": {
              "outlinewidth": 0,
              "ticks": ""
             }
            },
            "type": "scatterpolargl"
           }
          ],
          "scatterternary": [
           {
            "marker": {
             "colorbar": {
              "outlinewidth": 0,
              "ticks": ""
             }
            },
            "type": "scatterternary"
           }
          ],
          "surface": [
           {
            "colorbar": {
             "outlinewidth": 0,
             "ticks": ""
            },
            "colorscale": [
             [
              0,
              "#0d0887"
             ],
             [
              0.1111111111111111,
              "#46039f"
             ],
             [
              0.2222222222222222,
              "#7201a8"
             ],
             [
              0.3333333333333333,
              "#9c179e"
             ],
             [
              0.4444444444444444,
              "#bd3786"
             ],
             [
              0.5555555555555556,
              "#d8576b"
             ],
             [
              0.6666666666666666,
              "#ed7953"
             ],
             [
              0.7777777777777778,
              "#fb9f3a"
             ],
             [
              0.8888888888888888,
              "#fdca26"
             ],
             [
              1,
              "#f0f921"
             ]
            ],
            "type": "surface"
           }
          ],
          "table": [
           {
            "cells": {
             "fill": {
              "color": "#EBF0F8"
             },
             "line": {
              "color": "white"
             }
            },
            "header": {
             "fill": {
              "color": "#C8D4E3"
             },
             "line": {
              "color": "white"
             }
            },
            "type": "table"
           }
          ]
         },
         "layout": {
          "annotationdefaults": {
           "arrowcolor": "#2a3f5f",
           "arrowhead": 0,
           "arrowwidth": 1
          },
          "autotypenumbers": "strict",
          "coloraxis": {
           "colorbar": {
            "outlinewidth": 0,
            "ticks": ""
           }
          },
          "colorscale": {
           "diverging": [
            [
             0,
             "#8e0152"
            ],
            [
             0.1,
             "#c51b7d"
            ],
            [
             0.2,
             "#de77ae"
            ],
            [
             0.3,
             "#f1b6da"
            ],
            [
             0.4,
             "#fde0ef"
            ],
            [
             0.5,
             "#f7f7f7"
            ],
            [
             0.6,
             "#e6f5d0"
            ],
            [
             0.7,
             "#b8e186"
            ],
            [
             0.8,
             "#7fbc41"
            ],
            [
             0.9,
             "#4d9221"
            ],
            [
             1,
             "#276419"
            ]
           ],
           "sequential": [
            [
             0,
             "#0d0887"
            ],
            [
             0.1111111111111111,
             "#46039f"
            ],
            [
             0.2222222222222222,
             "#7201a8"
            ],
            [
             0.3333333333333333,
             "#9c179e"
            ],
            [
             0.4444444444444444,
             "#bd3786"
            ],
            [
             0.5555555555555556,
             "#d8576b"
            ],
            [
             0.6666666666666666,
             "#ed7953"
            ],
            [
             0.7777777777777778,
             "#fb9f3a"
            ],
            [
             0.8888888888888888,
             "#fdca26"
            ],
            [
             1,
             "#f0f921"
            ]
           ],
           "sequentialminus": [
            [
             0,
             "#0d0887"
            ],
            [
             0.1111111111111111,
             "#46039f"
            ],
            [
             0.2222222222222222,
             "#7201a8"
            ],
            [
             0.3333333333333333,
             "#9c179e"
            ],
            [
             0.4444444444444444,
             "#bd3786"
            ],
            [
             0.5555555555555556,
             "#d8576b"
            ],
            [
             0.6666666666666666,
             "#ed7953"
            ],
            [
             0.7777777777777778,
             "#fb9f3a"
            ],
            [
             0.8888888888888888,
             "#fdca26"
            ],
            [
             1,
             "#f0f921"
            ]
           ]
          },
          "colorway": [
           "#636efa",
           "#EF553B",
           "#00cc96",
           "#ab63fa",
           "#FFA15A",
           "#19d3f3",
           "#FF6692",
           "#B6E880",
           "#FF97FF",
           "#FECB52"
          ],
          "font": {
           "color": "#2a3f5f"
          },
          "geo": {
           "bgcolor": "white",
           "lakecolor": "white",
           "landcolor": "#E5ECF6",
           "showlakes": true,
           "showland": true,
           "subunitcolor": "white"
          },
          "hoverlabel": {
           "align": "left"
          },
          "hovermode": "closest",
          "mapbox": {
           "style": "light"
          },
          "paper_bgcolor": "white",
          "plot_bgcolor": "#E5ECF6",
          "polar": {
           "angularaxis": {
            "gridcolor": "white",
            "linecolor": "white",
            "ticks": ""
           },
           "bgcolor": "#E5ECF6",
           "radialaxis": {
            "gridcolor": "white",
            "linecolor": "white",
            "ticks": ""
           }
          },
          "scene": {
           "xaxis": {
            "backgroundcolor": "#E5ECF6",
            "gridcolor": "white",
            "gridwidth": 2,
            "linecolor": "white",
            "showbackground": true,
            "ticks": "",
            "zerolinecolor": "white"
           },
           "yaxis": {
            "backgroundcolor": "#E5ECF6",
            "gridcolor": "white",
            "gridwidth": 2,
            "linecolor": "white",
            "showbackground": true,
            "ticks": "",
            "zerolinecolor": "white"
           },
           "zaxis": {
            "backgroundcolor": "#E5ECF6",
            "gridcolor": "white",
            "gridwidth": 2,
            "linecolor": "white",
            "showbackground": true,
            "ticks": "",
            "zerolinecolor": "white"
           }
          },
          "shapedefaults": {
           "line": {
            "color": "#2a3f5f"
           }
          },
          "ternary": {
           "aaxis": {
            "gridcolor": "white",
            "linecolor": "white",
            "ticks": ""
           },
           "baxis": {
            "gridcolor": "white",
            "linecolor": "white",
            "ticks": ""
           },
           "bgcolor": "#E5ECF6",
           "caxis": {
            "gridcolor": "white",
            "linecolor": "white",
            "ticks": ""
           }
          },
          "title": {
           "x": 0.05
          },
          "xaxis": {
           "automargin": true,
           "gridcolor": "white",
           "linecolor": "white",
           "ticks": "",
           "title": {
            "standoff": 15
           },
           "zerolinecolor": "white",
           "zerolinewidth": 2
          },
          "yaxis": {
           "automargin": true,
           "gridcolor": "white",
           "linecolor": "white",
           "ticks": "",
           "title": {
            "standoff": 15
           },
           "zerolinecolor": "white",
           "zerolinewidth": 2
          }
         }
        },
        "title": {
         "text": "100 most common words"
        },
        "width": 2000,
        "xaxis": {
         "anchor": "y",
         "domain": [
          0,
          1
         ],
         "title": {
          "text": "x"
         }
        },
        "yaxis": {
         "anchor": "x",
         "domain": [
          0,
          1
         ],
         "title": {
          "text": "y"
         }
        }
       }
      },
      "text/html": [
       "<div>                            <div id=\"e32080dd-c18d-458b-b582-40a4334b6f76\" class=\"plotly-graph-div\" style=\"height:500px; width:2000px;\"></div>            <script type=\"text/javascript\">                require([\"plotly\"], function(Plotly) {                    window.PLOTLYENV=window.PLOTLYENV || {};                                    if (document.getElementById(\"e32080dd-c18d-458b-b582-40a4334b6f76\")) {                    Plotly.newPlot(                        \"e32080dd-c18d-458b-b582-40a4334b6f76\",                        [{\"alignmentgroup\":\"True\",\"hovertemplate\":\"x=%{x}<br>y=%{y}<extra></extra>\",\"legendgroup\":\"\",\"marker\":{\"color\":\"#636efa\",\"pattern\":{\"shape\":\"\"}},\"name\":\"\",\"offsetgroup\":\"\",\"orientation\":\"v\",\"showlegend\":false,\"textposition\":\"auto\",\"x\":[\"kindle\",\"book\",\"u\",\"free\",\"customer\",\"cloud\",\"new\",\"review\",\"publisher\",\"help\",\"audio\",\"home\",\"see\",\"list\",\"product\",\"music\",\"feedback\",\"read\",\"search\",\"star\",\"date\",\"paperback\",\"video\",\"prime\",\"history\",\"like\",\"instant\",\"author\",\"wish\",\"edition\",\"shipping\",\"x\",\"first\",\"audible\",\"nook\",\"one\",\"sport\",\"store\",\"fire\",\"baby\",\"drive\",\"player\",\"clothing\",\"would\",\"health\",\"item\",\"find\",\"buy\",\"contact\",\"sell\",\"write\",\"android\",\"used\",\"time\",\"beauty\",\"digital\",\"pub\",\"easy\",\"library\",\"cart\",\"electronics\",\"life\",\"fiction\",\"best\",\"account\",\"please\",\"helpful\",\"good\",\"show\",\"get\",\"reading\",\"available\",\"guide\",\"b\",\"description\",\"collins\",\"give\",\"make\",\"learn\",\"business\",\"sign\",\"mac\",\"shop\",\"day\",\"print\",\"add\",\"million\",\"advanced\",\"shopping\",\"price\",\"back\",\"manage\",\"way\",\"gift\",\"weight\",\"hand\",\"automotive\",\"industrial\",\"grocery\",\"also\"],\"xaxis\":\"x\",\"y\":[5102,3643,3331,3287,3081,2983,2977,2895,2642,2585,2584,2497,2460,2294,2228,2177,2144,2093,2072,2068,2041,1974,1922,1886,1837,1809,1702,1675,1528,1509,1496,1485,1433,1365,1347,1337,1318,1301,1298,1297,1294,1278,1272,1240,1231,1212,1198,1190,1178,1175,1168,1166,1139,1132,1114,1108,1103,1089,1071,1070,1060,1054,1053,1051,1051,1050,1047,1039,1031,1030,1025,1022,1012,1010,991,985,982,977,971,970,956,952,944,941,936,908,872,870,868,860,859,859,856,851,850,850,850,850,849,820],\"yaxis\":\"y\",\"type\":\"bar\"}],                        {\"template\":{\"data\":{\"bar\":[{\"error_x\":{\"color\":\"#2a3f5f\"},\"error_y\":{\"color\":\"#2a3f5f\"},\"marker\":{\"line\":{\"color\":\"#E5ECF6\",\"width\":0.5},\"pattern\":{\"fillmode\":\"overlay\",\"size\":10,\"solidity\":0.2}},\"type\":\"bar\"}],\"barpolar\":[{\"marker\":{\"line\":{\"color\":\"#E5ECF6\",\"width\":0.5},\"pattern\":{\"fillmode\":\"overlay\",\"size\":10,\"solidity\":0.2}},\"type\":\"barpolar\"}],\"carpet\":[{\"aaxis\":{\"endlinecolor\":\"#2a3f5f\",\"gridcolor\":\"white\",\"linecolor\":\"white\",\"minorgridcolor\":\"white\",\"startlinecolor\":\"#2a3f5f\"},\"baxis\":{\"endlinecolor\":\"#2a3f5f\",\"gridcolor\":\"white\",\"linecolor\":\"white\",\"minorgridcolor\":\"white\",\"startlinecolor\":\"#2a3f5f\"},\"type\":\"carpet\"}],\"choropleth\":[{\"colorbar\":{\"outlinewidth\":0,\"ticks\":\"\"},\"type\":\"choropleth\"}],\"contour\":[{\"colorbar\":{\"outlinewidth\":0,\"ticks\":\"\"},\"colorscale\":[[0.0,\"#0d0887\"],[0.1111111111111111,\"#46039f\"],[0.2222222222222222,\"#7201a8\"],[0.3333333333333333,\"#9c179e\"],[0.4444444444444444,\"#bd3786\"],[0.5555555555555556,\"#d8576b\"],[0.6666666666666666,\"#ed7953\"],[0.7777777777777778,\"#fb9f3a\"],[0.8888888888888888,\"#fdca26\"],[1.0,\"#f0f921\"]],\"type\":\"contour\"}],\"contourcarpet\":[{\"colorbar\":{\"outlinewidth\":0,\"ticks\":\"\"},\"type\":\"contourcarpet\"}],\"heatmap\":[{\"colorbar\":{\"outlinewidth\":0,\"ticks\":\"\"},\"colorscale\":[[0.0,\"#0d0887\"],[0.1111111111111111,\"#46039f\"],[0.2222222222222222,\"#7201a8\"],[0.3333333333333333,\"#9c179e\"],[0.4444444444444444,\"#bd3786\"],[0.5555555555555556,\"#d8576b\"],[0.6666666666666666,\"#ed7953\"],[0.7777777777777778,\"#fb9f3a\"],[0.8888888888888888,\"#fdca26\"],[1.0,\"#f0f921\"]],\"type\":\"heatmap\"}],\"heatmapgl\":[{\"colorbar\":{\"outlinewidth\":0,\"ticks\":\"\"},\"colorscale\":[[0.0,\"#0d0887\"],[0.1111111111111111,\"#46039f\"],[0.2222222222222222,\"#7201a8\"],[0.3333333333333333,\"#9c179e\"],[0.4444444444444444,\"#bd3786\"],[0.5555555555555556,\"#d8576b\"],[0.6666666666666666,\"#ed7953\"],[0.7777777777777778,\"#fb9f3a\"],[0.8888888888888888,\"#fdca26\"],[1.0,\"#f0f921\"]],\"type\":\"heatmapgl\"}],\"histogram\":[{\"marker\":{\"pattern\":{\"fillmode\":\"overlay\",\"size\":10,\"solidity\":0.2}},\"type\":\"histogram\"}],\"histogram2d\":[{\"colorbar\":{\"outlinewidth\":0,\"ticks\":\"\"},\"colorscale\":[[0.0,\"#0d0887\"],[0.1111111111111111,\"#46039f\"],[0.2222222222222222,\"#7201a8\"],[0.3333333333333333,\"#9c179e\"],[0.4444444444444444,\"#bd3786\"],[0.5555555555555556,\"#d8576b\"],[0.6666666666666666,\"#ed7953\"],[0.7777777777777778,\"#fb9f3a\"],[0.8888888888888888,\"#fdca26\"],[1.0,\"#f0f921\"]],\"type\":\"histogram2d\"}],\"histogram2dcontour\":[{\"colorbar\":{\"outlinewidth\":0,\"ticks\":\"\"},\"colorscale\":[[0.0,\"#0d0887\"],[0.1111111111111111,\"#46039f\"],[0.2222222222222222,\"#7201a8\"],[0.3333333333333333,\"#9c179e\"],[0.4444444444444444,\"#bd3786\"],[0.5555555555555556,\"#d8576b\"],[0.6666666666666666,\"#ed7953\"],[0.7777777777777778,\"#fb9f3a\"],[0.8888888888888888,\"#fdca26\"],[1.0,\"#f0f921\"]],\"type\":\"histogram2dcontour\"}],\"mesh3d\":[{\"colorbar\":{\"outlinewidth\":0,\"ticks\":\"\"},\"type\":\"mesh3d\"}],\"parcoords\":[{\"line\":{\"colorbar\":{\"outlinewidth\":0,\"ticks\":\"\"}},\"type\":\"parcoords\"}],\"pie\":[{\"automargin\":true,\"type\":\"pie\"}],\"scatter\":[{\"marker\":{\"colorbar\":{\"outlinewidth\":0,\"ticks\":\"\"}},\"type\":\"scatter\"}],\"scatter3d\":[{\"line\":{\"colorbar\":{\"outlinewidth\":0,\"ticks\":\"\"}},\"marker\":{\"colorbar\":{\"outlinewidth\":0,\"ticks\":\"\"}},\"type\":\"scatter3d\"}],\"scattercarpet\":[{\"marker\":{\"colorbar\":{\"outlinewidth\":0,\"ticks\":\"\"}},\"type\":\"scattercarpet\"}],\"scattergeo\":[{\"marker\":{\"colorbar\":{\"outlinewidth\":0,\"ticks\":\"\"}},\"type\":\"scattergeo\"}],\"scattergl\":[{\"marker\":{\"colorbar\":{\"outlinewidth\":0,\"ticks\":\"\"}},\"type\":\"scattergl\"}],\"scattermapbox\":[{\"marker\":{\"colorbar\":{\"outlinewidth\":0,\"ticks\":\"\"}},\"type\":\"scattermapbox\"}],\"scatterpolar\":[{\"marker\":{\"colorbar\":{\"outlinewidth\":0,\"ticks\":\"\"}},\"type\":\"scatterpolar\"}],\"scatterpolargl\":[{\"marker\":{\"colorbar\":{\"outlinewidth\":0,\"ticks\":\"\"}},\"type\":\"scatterpolargl\"}],\"scatterternary\":[{\"marker\":{\"colorbar\":{\"outlinewidth\":0,\"ticks\":\"\"}},\"type\":\"scatterternary\"}],\"surface\":[{\"colorbar\":{\"outlinewidth\":0,\"ticks\":\"\"},\"colorscale\":[[0.0,\"#0d0887\"],[0.1111111111111111,\"#46039f\"],[0.2222222222222222,\"#7201a8\"],[0.3333333333333333,\"#9c179e\"],[0.4444444444444444,\"#bd3786\"],[0.5555555555555556,\"#d8576b\"],[0.6666666666666666,\"#ed7953\"],[0.7777777777777778,\"#fb9f3a\"],[0.8888888888888888,\"#fdca26\"],[1.0,\"#f0f921\"]],\"type\":\"surface\"}],\"table\":[{\"cells\":{\"fill\":{\"color\":\"#EBF0F8\"},\"line\":{\"color\":\"white\"}},\"header\":{\"fill\":{\"color\":\"#C8D4E3\"},\"line\":{\"color\":\"white\"}},\"type\":\"table\"}]},\"layout\":{\"annotationdefaults\":{\"arrowcolor\":\"#2a3f5f\",\"arrowhead\":0,\"arrowwidth\":1},\"autotypenumbers\":\"strict\",\"coloraxis\":{\"colorbar\":{\"outlinewidth\":0,\"ticks\":\"\"}},\"colorscale\":{\"diverging\":[[0,\"#8e0152\"],[0.1,\"#c51b7d\"],[0.2,\"#de77ae\"],[0.3,\"#f1b6da\"],[0.4,\"#fde0ef\"],[0.5,\"#f7f7f7\"],[0.6,\"#e6f5d0\"],[0.7,\"#b8e186\"],[0.8,\"#7fbc41\"],[0.9,\"#4d9221\"],[1,\"#276419\"]],\"sequential\":[[0.0,\"#0d0887\"],[0.1111111111111111,\"#46039f\"],[0.2222222222222222,\"#7201a8\"],[0.3333333333333333,\"#9c179e\"],[0.4444444444444444,\"#bd3786\"],[0.5555555555555556,\"#d8576b\"],[0.6666666666666666,\"#ed7953\"],[0.7777777777777778,\"#fb9f3a\"],[0.8888888888888888,\"#fdca26\"],[1.0,\"#f0f921\"]],\"sequentialminus\":[[0.0,\"#0d0887\"],[0.1111111111111111,\"#46039f\"],[0.2222222222222222,\"#7201a8\"],[0.3333333333333333,\"#9c179e\"],[0.4444444444444444,\"#bd3786\"],[0.5555555555555556,\"#d8576b\"],[0.6666666666666666,\"#ed7953\"],[0.7777777777777778,\"#fb9f3a\"],[0.8888888888888888,\"#fdca26\"],[1.0,\"#f0f921\"]]},\"colorway\":[\"#636efa\",\"#EF553B\",\"#00cc96\",\"#ab63fa\",\"#FFA15A\",\"#19d3f3\",\"#FF6692\",\"#B6E880\",\"#FF97FF\",\"#FECB52\"],\"font\":{\"color\":\"#2a3f5f\"},\"geo\":{\"bgcolor\":\"white\",\"lakecolor\":\"white\",\"landcolor\":\"#E5ECF6\",\"showlakes\":true,\"showland\":true,\"subunitcolor\":\"white\"},\"hoverlabel\":{\"align\":\"left\"},\"hovermode\":\"closest\",\"mapbox\":{\"style\":\"light\"},\"paper_bgcolor\":\"white\",\"plot_bgcolor\":\"#E5ECF6\",\"polar\":{\"angularaxis\":{\"gridcolor\":\"white\",\"linecolor\":\"white\",\"ticks\":\"\"},\"bgcolor\":\"#E5ECF6\",\"radialaxis\":{\"gridcolor\":\"white\",\"linecolor\":\"white\",\"ticks\":\"\"}},\"scene\":{\"xaxis\":{\"backgroundcolor\":\"#E5ECF6\",\"gridcolor\":\"white\",\"gridwidth\":2,\"linecolor\":\"white\",\"showbackground\":true,\"ticks\":\"\",\"zerolinecolor\":\"white\"},\"yaxis\":{\"backgroundcolor\":\"#E5ECF6\",\"gridcolor\":\"white\",\"gridwidth\":2,\"linecolor\":\"white\",\"showbackground\":true,\"ticks\":\"\",\"zerolinecolor\":\"white\"},\"zaxis\":{\"backgroundcolor\":\"#E5ECF6\",\"gridcolor\":\"white\",\"gridwidth\":2,\"linecolor\":\"white\",\"showbackground\":true,\"ticks\":\"\",\"zerolinecolor\":\"white\"}},\"shapedefaults\":{\"line\":{\"color\":\"#2a3f5f\"}},\"ternary\":{\"aaxis\":{\"gridcolor\":\"white\",\"linecolor\":\"white\",\"ticks\":\"\"},\"baxis\":{\"gridcolor\":\"white\",\"linecolor\":\"white\",\"ticks\":\"\"},\"bgcolor\":\"#E5ECF6\",\"caxis\":{\"gridcolor\":\"white\",\"linecolor\":\"white\",\"ticks\":\"\"}},\"title\":{\"x\":0.05},\"xaxis\":{\"automargin\":true,\"gridcolor\":\"white\",\"linecolor\":\"white\",\"ticks\":\"\",\"title\":{\"standoff\":15},\"zerolinecolor\":\"white\",\"zerolinewidth\":2},\"yaxis\":{\"automargin\":true,\"gridcolor\":\"white\",\"linecolor\":\"white\",\"ticks\":\"\",\"title\":{\"standoff\":15},\"zerolinecolor\":\"white\",\"zerolinewidth\":2}}},\"xaxis\":{\"anchor\":\"y\",\"domain\":[0.0,1.0],\"title\":{\"text\":\"x\"}},\"yaxis\":{\"anchor\":\"x\",\"domain\":[0.0,1.0],\"title\":{\"text\":\"y\"}},\"legend\":{\"tracegroupgap\":0},\"title\":{\"text\":\"100 most common words\"},\"barmode\":\"relative\",\"height\":500,\"width\":2000},                        {\"responsive\": true}                    ).then(function(){\n",
       "                            \n",
       "var gd = document.getElementById('e32080dd-c18d-458b-b582-40a4334b6f76');\n",
       "var x = new MutationObserver(function (mutations, observer) {{\n",
       "        var display = window.getComputedStyle(gd).display;\n",
       "        if (!display || display === 'none') {{\n",
       "            console.log([gd, 'removed!']);\n",
       "            Plotly.purge(gd);\n",
       "            observer.disconnect();\n",
       "        }}\n",
       "}});\n",
       "\n",
       "// Listen for the removal of the full notebook cells\n",
       "var notebookContainer = gd.closest('#notebook-container');\n",
       "if (notebookContainer) {{\n",
       "    x.observe(notebookContainer, {childList: true});\n",
       "}}\n",
       "\n",
       "// Listen for the clearing of the current output cell\n",
       "var outputEl = gd.closest('.output');\n",
       "if (outputEl) {{\n",
       "    x.observe(outputEl, {childList: true});\n",
       "}}\n",
       "\n",
       "                        })                };                });            </script>        </div>"
      ]
     },
     "metadata": {},
     "output_type": "display_data"
    }
   ],
   "source": [
    "# via plotly\n",
    "import plotly.express as px\n",
    "\n",
    "fig = px.bar(x=x, y=y, title='100 most common words', width=2000, height=500)\n",
    "fig.show()"
   ]
  },
  {
   "cell_type": "markdown",
   "metadata": {
    "id": "5ZxcPfLTDMVO"
   },
   "source": [
    "#### Example of processed text"
   ]
  },
  {
   "cell_type": "code",
   "execution_count": 11,
   "metadata": {
    "id": "2BSMfa9lDMVP"
   },
   "outputs": [
    {
     "name": "stdout",
     "output_type": "stream",
     "text": [
      "clubbable woman audio hill warren skip page content skip contact u help track order login register search book title author find book advanced search currency selection pound u dollar dollar cad dollar dollar dollar go basket quick basket view quantity book price total basket empty free delivery home free content navigation u coming soon fast book week book see large image clubbable woman audio author hill read warren unavailable sorry get title button link may title new window try add also available paperback short description clubbable woman hill first novel got back club wife even uncommunicative usual five later still front head full description publisher format audio see full bibliographic data crime people bought category showing height add basket cure add basket save death add basket save good morning midnight add basket save death jest book add basket save full description bibliographic data full description clubbable woman hill first novel got back club wife even uncommunicative usual five later still front head superintendent knew exactly went clubhouse sergeant subscribe sign browse account art photography audio biography business finance law crime thriller entertainment fiction food drink graphic anime manga health history archaeology home garden humour medical mind body spirit natural history personal development poetry drama reference religion romance science geography science fiction fantasy horror society social sport stationery teaching education technology engineering transport travel holiday book depository registered company number home privacy policy u contact u help secure shopping accessibility accept payment share u u follow u \n",
      "\n",
      "virtual stock exchange search day day day day month year decade data express quote data hide quote detailed quote chain chart help last change open high low volume percent change yield p e ratio week range trading last change volume news industry market sec filing annual report profile create alert add portfolio read technical analysis interactive chart printer friendly format save hour two every day trading prep time technical indicator express news express june mark stock go roller coaster yawner june set repay tarp fund wall street journal yahoo new national semi loss start repaying tarp soon evening express repay tarp fund next week june tarp legacy wall street journal blue chip flat wall street journal repay cash wall street journal ti gain also wall street journal company express june fitch u credit card issuance express repurchase billion preferred u treasury international senior technology executive board june integrity medium market alert financial v june small business matchmaking event set june express r exclusive summer weekend package june honor express company g recent home job contact u feedback integrate news custom financial data dow client copyright reserved site agree use privacy policy data provided interactive data real time division interactive data corp subject use historical current end day data provided interactive data reference data information current financial status data dow dow company data provided least local exchange time \n",
      "\n"
     ]
    }
   ],
   "source": [
    "for i in range(2):\n",
    "    print(df.loc[np.random.randint(1000)].text, \"\\n\")"
   ]
  },
  {
   "cell_type": "markdown",
   "metadata": {
    "id": "0xn6XK7UDMVP"
   },
   "source": [
    "By these tokens we can only imagine what was the text about, but we can not exactly understand the theme of the text. For example, second text is about some stock market and its stocks volumes, highs, lows and etc. So, of course, a lot of context information were lost."
   ]
  },
  {
   "cell_type": "code",
   "execution_count": 12,
   "metadata": {},
   "outputs": [
    {
     "data": {
      "text/plain": [
       "'<html>\\n<head profile=\"http://www.w3.org/2005/10/profile\">\\n<LINK REL=\"SHORTCUT ICON\" href=\"http://i.bookmooch.com/favicon.ico\"> \\n<link rel=\"icon\" type=\"image/png\" href=\"http://i.bookmooch.com/favicon.png\">\\n<title>Helga Hofmann : Butterflies and Moths of Britain and Europe (Collins Nature Guide)</title>\\n<meta http-equiv=\"Content-Type\" content=\"text/html\">\\n\\t\\n</head>\\n<body bgcolor=\"#FFFFFF\" leftmargin=\"0\" topmargin=\"0\" marginwidth=\"0\" marginheight=\"0\" text=\"#000000\" link=\"#0000FF\" vlink=\"#0000FF\" alink=\"#FF0000\" >\\n<basefont face=\"arial, sans-serif\"><font face=\"arial, sans-serif\">\\n<table width=\"100%\" height=\"70\" border=\"0\" cellpadding=\"0\" cellspacing=\"0\">\\n\\t<tr><form action=\"/search\" method=\"get\">\\n\\t\\t<td width=\"283\" colspan=\"2\" rowspan=\"2\" bgcolor=\"#689A9B\">\\n\\t\\t\\t<a href=\"/\">\\n\\t\\t\\t\\t<img src=\"http://i.bookmooch.com/images/bookmooch_logo.gif\" width=\"283\" height=\"66\" border=\"0\" alt=\"BookMooch logo\"></a></td>\\n\\t\\t<td width=\"675\" height=\"38\" colspan=\"9\" align=\"right\" bgcolor=\"#689A9B\" xcolor=\"#689A9B\">\\n\\t\\t\\n<table border=0 cellpadding=\"0\" cellspacing=\"0\"><tr>\\n\\t\\t\\t\\t<td width=270 height=18 valign=\"middle\" align=\"right\">\\n\\t\\t\\t\\t\\t<INPUT TYPE=\"text\" NAME=\"w\" VALUE=\"\" SIZE=\"20\" MAXLENGTH=\"100\">&nbsp;</td>\\n\\t\\t\\t\\t<td width=67 height=18 valign=\"middle\" align=\"right\"><input type=\"image\" BORDER=\"0\" title=\"search\" alt=\"search\" src=\"http://i.bookmooch.com/images/search_button.gif\" width=\"67\" height=\"18\" name=\"search\"></td>\\n\\t\\t\\t\\t<td height=38 width=37><img src=\"http://i.bookmooch.com/images/spacer.gif\" width=\"10\" height=\"1\" alt=\"\"></td></tr>\\n\\t\\t\\t</table>\\n\\t\\t\\n\\t\\t\\t</td>\\n\\t\\t<td bgcolor=\"#689A9B\" width=940><img src=\"http://i.bookmooch.com/images/spacer.gif\" width=\"1\" height=\"1\" alt=\"\"></td>\\n\\t</tr></form>\\n\\t<tr>\\n\\t\\t<td width=\"193\" height=\"28\" bgcolor=\"#689A9B\"><img src=\"http://i.bookmooch.com/images/spacer.gif\" width=\"193\" height=\"28\" alt=\"\"></td>\\n\\t\\t<td bgcolor=\"#FFFF99\"><a href=\"/\"><img src=\"http://i.bookmooch.com/images/home.gif\" width=\"85\" height=\"28\" border=\"0\" alt=\"home\"></a></td>\\n\\t\\t<td bgcolor=\"#98D5DF\"><a href=\"/browse\"><img src=\"http://i.bookmooch.com/images/browse_selected.gif\" width=\"86\" height=\"28\" border=\"0\" alt=\"browse\"></a></td>\\n\\t\\t<td colspan=\"2\" bgcolor=\"#97D5DF\"><a href=\"/about/\"><img src=\"http://i.bookmooch.com/images/about.gif\" width=\"85\" height=\"28\" border=\"0\" alt=\"about\"></a></td>\\n\\t\\t<td bgcolor=\"#8DD1D8\"><a href=\"/join\"><img src=\"http://i.bookmooch.com/images/join.gif\" width=\"86\" height=\"28\" border=\"0\" alt=\"join\"></a></td>\\n\\t\\t<td bgcolor=\"#92D3DD\"><a href=\"/login\"><img src=\"http://i.bookmooch.com/images/login.gif\" width=\"84\" height=\"28\" border=\"0\" alt=\"login\"></a></td>\\n\\t\\t<td width=\"38\" height=\"28\" colspan=\"2\" bgcolor=\"#689A9B\"><img src=\"http://i.bookmooch.com/images/spacer.gif\" width=\"38\" height=\"28\" alt=\"\"></td><td bgcolor=\"#689A9B\" width=\"100%\"><img src=\"http://i.bookmooch.com/images/spacer.gif\" width=\"1\" height=\"1\" alt=\"\"></td>\\n\\t</tr>\\n\\t\\n\\t\\n\\t<tr>\\n\\t\\t<td width=\"940\" height=\"4\" colspan=\"11\" bgcolor=\"#FFFF99\">\\n\\t\\t\\t<img src=\"http://i.bookmooch.com/images/spacer.gif\" width=\"940\" height=\"4\" alt=\"\"></td><td bgcolor=\"#FFFF99\" width=100%><img src=\"http://i.bookmooch.com/images/spacer.gif\" width=\"1\" height=\"1\" alt=\"\"></td>\\n\\t</tr>\\n</table>\\n<table width=\"100%\" border=\"0\" cellpadding=\"0\" cellspacing=\"0\"><tr>\\n<td><img src=\"http://i.bookmooch.com/images/spacer.gif\" width=\"1\" height=\"12\" alt=\"\"></td><td></td><td></td></tr><td width=12><img src=\"http://i.bookmooch.com/images/spacer.gif\" width=\"12\" height=\"1\" alt=\"\"></td><td>\\n\\n<Table width=891 cellspacing=0 cellpadding=0 border=0><tr><Td align=\"left\"><font face=\"Verdana, Arial, utopia, sans-serif\" size=4 color=\"#1F4A58\">Helga Hofmann : Butterflies and Moths of Britain and Europe (Collins Nature Guide)</font></td><td align=\"right\"><table id=\"button\" height=\"18\" border=\"0\" cellpadding=\"0\" cellspacing=\"0\">\\n\\t<tr>\\n\\t\\t<td bgcolor=\"#6EB0B1\">\\n\\t\\t\\t<a href=\"http://wiki.bookmooch.com/index.php?title=Book+detail\"  target=\"help\"  title=\"help\"><img border=0 bgcolor=\"#6EB0B1\" src=\"http://i.bookmooch.com/images/button_template_left.gif\" width=\"5\" height=\"18\" alt=\"\"></a></td>\\n\\t\\t<td valign=\"middle\" height=\"18\" bgcolor=\"#6EB0B1\"><a  target=\"help\"  STYLE=\"text-decoration:none\" href=\"http://wiki.bookmooch.com/index.php?title=Book+detail\" title=\"help\"><font face=\"Verdana, Arial, utopia, sans-serif\" size=2 color=\"#FFFFFF\"><nobr>?</nobr></font></a></td>\\n\\t\\t<td bgcolor=\"#6EB0B1\">\\n\\t\\t\\t<a  target=\"help\"  href=\"http://wiki.bookmooch.com/index.php?title=Book+detail\" title=\"help\"><img border=0 bgcolor=\"#6EB0B1\" src=\"http://i.bookmooch.com/images/button_template_right.gif\" width=\"6\" height=\"18\" alt=\"\"></a></td>\\n\\t</tr>\\n</table></td></tr></table><img src=\"http://i.bookmooch.com/images/spacer.gif\" width=\"5\" height=\"5\" alt=\"\"><br><img src=\"http://i.bookmooch.com/images/greydot.gif\" width=\"891\" height=\"1\" alt=\"\"><br><img src=\"http://i.bookmooch.com/images/spacer.gif\" width=\"1\" height=\"12\" alt=\"\"><br>\\n\\n\\t\\t<table border=0 cellpadding=0 width=1221 cellspacing=0><tr><td valign=\"top\">\\n        <table border=0 cellpadding=1 width=891 cellspacing=0><tr>\\n        \\n\\t\\t<td valign=\"top\" align=\"left\">\\n        <table border=0 width=100% cellpadding=1 cellspacing=0>\\n        \\n        <tr>\\n            <td valign=\"top\" align=\"right\" bgcolor=\"FFFFFF\">Author:</td>\\n            <td></td>\\n            <td valign=\"top\" bgcolor=\"FFFFFF\"><a title=\"Search for this author\" for href=\"/s/helga+hofmann\">Helga Hofmann</a>\\n\\t\\t\\t</td>\\n        </tr>\\n        \\n        <tr>\\n            <td valign=\"top\" width=10% align=\"right\" bgcolor=\"FFFFFF\">Title:</td>\\n            <td><img src=\"http://i.bookmooch.com/images/spacer.gif\" width=\"12\" height=\"1\" alt=\"\"></td>\\n            <td valign=\"top\" width=90% bgcolor=\"FFFFFF\"><a title=\"Search for this title\" href=\"/s/butterflies+and+moths+of+britain+and+europe+collins+nature+guide\">Butterflies and Moths of Britain and Europe (Collins Nature Guide)</a></td>\\n        </tr>\\n        <tr>\\n            <td valign=\"top\" align=\"right\" bgcolor=\"FFFFFF\">Moochable&nbsp;copies:</td>\\n            <td></td>\\n            <td valign=\"top\" bgcolor=\"FFFFFF\">No copies available</td>\\n        </tr>\\n        \\n\\t\\t\\n\\t\\t\\n                    <tr>\\n                        <td valign=\"top\" align=\"right\" bgcolor=\"FFFFFF\">Amazon&nbsp;suggests:</td>\\n                        <td></td><form action=\"/recommended_get\" method=\"get\" name=\"form31\"><input type=\"hidden\" name=\"go\" value=\"0002200295\">\\n                        <td valign=\"top\" bgcolor=\"FFFFFF\"><table cellspacing=0 cellpadding=0 border=0><tr><td align=\"left\" valign=\"top\"><select size=1 name=\"asin\"><option value=\"0002199963\">Wild Flowers of Britain and Northern Europe (Collins Nature G</option><option value=\"0002199939\">Trees (Collins Nature Guide)</option><option value=\"0002200252\">Mushrooms and Toadstools of Britain and Europe (Collins Field</option><option value=\"0002199955\">Birds of Britain & Europe (Collins Nature Guide)</option><option value=\"0007146248\">Insects (Collins GEM)</option></select></td><td><img src=\"http://i.bookmooch.com/images/spacer.gif\" width=\"5\" height=\"1\" alt=\"\"></td><td align=\"left\" valign=\"top\"><table id=\"button\" height=\"18\" border=\"0\" cellpadding=\"0\" cellspacing=\"0\">\\n\\t<tr>\\n\\t\\t<td bgcolor=\"#6EB0B1\">\\n\\t\\t\\t<a href=\"javascript:document.form31.submit();\"  title=\"\"><img border=0 bgcolor=\"#6EB0B1\" src=\"http://i.bookmooch.com/images/button_template_left.gif\" width=\"5\" height=\"18\" alt=\"\"></a></td>\\n\\t\\t<td valign=\"middle\" height=\"18\" bgcolor=\"#6EB0B1\"><a  STYLE=\"text-decoration:none\" href=\"javascript:document.form31.submit();\" title=\"\"><font face=\"Verdana, Arial, utopia, sans-serif\" size=1 color=\"#FFFFFF\"><nobr>></nobr></font></a></td>\\n\\t\\t<td bgcolor=\"#6EB0B1\">\\n\\t\\t\\t<a  href=\"javascript:document.form31.submit();\" title=\"\"><img border=0 bgcolor=\"#6EB0B1\" src=\"http://i.bookmooch.com/images/button_template_right.gif\" width=\"6\" height=\"18\" alt=\"\"></a></td>\\n\\t</tr>\\n</table></td></tr></table></td></form>\\n                    </tr>\\t\\n\\t\\t\\n        <tr>\\n            <td valign=\"top\" align=\"right\" bgcolor=\"FFFFFF\">Topics:</td>\\n            <td></td><form action=\"/topic_go\" method=\"get\" name=\"form\">\\n            <td valign=\"top\" bgcolor=\"FFFFFF\">\\n\\t\\t\\t<table cellspacing=0 cellpadding=0 border=0><tr><td align=\"left\" valign=\"top\"><select size=1 name=\"name\"><option value=\"Animal Sciences\">Animal Sciences</option><option value=\"Biological Sciences\">Biological Sciences</option><option value=\"Insects\">Insects</option><option value=\"Insects & Spiders\">Insects & Spiders</option><option value=\"Invertebrates\">Invertebrates</option><option value=\"Nature\">Nature</option><option value=\"Science & Nature\">Science & Nature</option><option value=\"Wild Animals\">Wild Animals</option></select></td><td><img src=\"http://i.bookmooch.com/images/spacer.gif\" width=\"5\" height=\"1\" alt=\"\"></td><td align=\"left\" valign=\"top\"><table id=\"button\" height=\"18\" border=\"0\" cellpadding=\"0\" cellspacing=\"0\">\\n\\t<tr>\\n\\t\\t<td bgcolor=\"#6EB0B1\">\\n\\t\\t\\t<a href=\"javascript:document.form.submit();\"  title=\"\"><img border=0 bgcolor=\"#6EB0B1\" src=\"http://i.bookmooch.com/images/button_template_left.gif\" width=\"5\" height=\"18\" alt=\"\"></a></td>\\n\\t\\t<td valign=\"middle\" height=\"18\" bgcolor=\"#6EB0B1\"><a  STYLE=\"text-decoration:none\" href=\"javascript:document.form.submit();\" title=\"\"><font face=\"Verdana, Arial, utopia, sans-serif\" size=1 color=\"#FFFFFF\"><nobr>></nobr></font></a></td>\\n\\t\\t<td bgcolor=\"#6EB0B1\">\\n\\t\\t\\t<a  href=\"javascript:document.form.submit();\" title=\"\"><img border=0 bgcolor=\"#6EB0B1\" src=\"http://i.bookmooch.com/images/button_template_right.gif\" width=\"6\" height=\"18\" alt=\"\"></a></td>\\n\\t</tr>\\n</table></td></tr></table>\\n\\t\\t\\t</td></form>\\n        </tr>\\n\\t\\t\\n\\t\\t\\t<tr>\\n\\t\\t\\t\\t<td valign=\"top\" align=\"right\" bgcolor=\"FFFFFF\">Published&nbsp;in:</td>\\n\\t\\t\\t\\t<td></td>\\n\\t\\t\\t\\t<td valign=\"top\" bgcolor=\"FFFFFF\">English</td>\\n\\t\\t\\t</tr>\\t\\n\\n        <tr>\\n            <td valign=\"top\" align=\"right\" bgcolor=\"FFFFFF\">Binding:</td>\\n            <td></td>\\n            <td valign=\"top\" bgcolor=\"FFFFFF\">Paperback</td>\\n        </tr>\\n        \\n\\t\\t\\n\\n        <tr>\\n            <td valign=\"top\" align=\"right\" bgcolor=\"FFFFFF\">Pages:</td>\\n            <td></td>\\n            <td bgcolor=\"FFFFFF\">158</td>\\n        </tr>\\n        <tr>\\n            <td valign=\"top\" align=\"right\" bgcolor=\"FFFFFF\">Date:</td>\\n            <td></td>\\n            <td valign=\"top\" bgcolor=\"FFFFFF\">1995-06-08</td>\\n        </tr>\\n        <tr>\\n            <td valign=\"top\" align=\"right\" bgcolor=\"FFFFFF\">ISBN:</td>\\n            <td></td>\\n            <td valign=\"top\" bgcolor=\"FFFFFF\">0002200295</td>\\n        </tr>\\n\\n        <tr>\\n            <td valign=\"top\" align=\"right\" bgcolor=\"FFFFFF\">Publisher:</td>\\n            <td></td>\\n            <td valign=\"top\" bgcolor=\"FFFFFF\"><a title=\"Search for this publisher\" href=\"/s/Collins\">Collins</a></td>\\n        </tr>\\n        \\n\\t\\t\\n\\t\\t\\n\\t\\t\\t<tr>\\n\\t\\t\\t\\t<td valign=\"top\" align=\"right\" bgcolor=\"FFFFFF\">Weight:</td>\\n\\t\\t\\t\\t<td></td>\\n\\t\\t\\t\\t<td valign=\"top\" bgcolor=\"FFFFFF\">0.31 pounds</td>\\n\\t\\t\\t</tr>\\t\\n\\t\\t\\n\\t\\t\\t<tr>\\n\\t\\t\\t\\t<td valign=\"top\" align=\"right\" bgcolor=\"FFFFFF\">Size:</td>\\n\\t\\t\\t\\t<td></td>\\n\\t\\t\\t\\t<td valign=\"top\" bgcolor=\"FFFFFF\">3.94 x 6.85 x 0.39 inches</td>\\n\\t\\t\\t</tr>\\t\\n\\t\\t\\n\\t\\t\\n\\t\\t\\t\\t\\t<td valign=\"top\" align=\"right\" bgcolor=\"FFFFFF\">Amazon&nbsp;prices:</td>\\n\\t\\t\\t\\t\\t<td></td>\\n\\t\\t\\t\\t\\t<td valign=\"top\" bgcolor=\"FFFFFF\"><table bgcolor=DDDDDD cellspacing=1 cellpadding=0><tr><td><table bgcolor=FFFFFF cellspacing=3 cellpadding=0><tr><td>\\n\\t\\t\\t<table bgcolor=FFFFFF cellspacing=0 cellpadding=0>\\n\\t\\t\\t\\n\\t\\t\\t<tr><td valign=\"top\" align=\"right\"><font color=\"red\"><b>&euro;15,17</b></td><td><img src=\"http://i.bookmooch.com/images/spacer.gif\" width=\"10\" height=\"1\" alt=\"\"></td><td valign=\"top\" align=\"left\"><A target=\"amazon-used-0002200295\" href=\"http://www.amazon.it/gp/offer-listing/0002200295?ie=UTF8&sort=price&condition=used&tag=book05e-21&linkCode=ur2\">used</a></td></tr>\\n\\t\\t\\t<tr><td valign=\"top\" align=\"right\"><font color=\"red\"><b>&euro;17,24</b></td><td></td><td valign=\"top\" align=\"left\"><A target=\"amazon-new-0002200295\" href=\"http://www.amazon.it/gp/offer-listing/0002200295?ie=UTF8&sort=price&condition=new&tag=book05e-21&linkCode=qs1\">new</a></td></tr>\\n\\t\\t\\t\\n\\t\\t\\t</table>\\n\\t\\t</td></tr></table></td></tr></table> <font size=1></font></td>\\n\\t\\t\\t\\t\\n\\t\\t\\n\\t\\t\\n        \\n        <tr>\\n            <td valign=\"top\" align=\"right\" bgcolor=\"FFFFFF\">Wishlists:</td>\\n            <td></td>\\n            <td valign=\"top\" bgcolor=\"FFFFFF\"><table cellspacing=0 cellpadding=0 border=0><tr><td align=\"left\" valign=\"top\">1</td><td><img src=\"http://i.bookmooch.com/images/spacer.gif\" width=\"5\" height=\"1\" alt=\"\"></td><td align=\"left\" valign=\"top\"><a title=\"view this member\\'s wishlist\" href=\"/wishlist/amb87\">Alice (United Kingdom)</a>.</td></tr></table>\\n\\t\\t\\t\\t </td>\\n        </tr>\\n        \\n        \\n\\t\\t\\n\\t\\t\\n        <tr>\\n            <td valign=\"top\" align=\"right\" bgcolor=\"FFFFFF\">URL:</td>\\n            <td></td>\\n            <td valign=\"top\" bgcolor=\"FFFFFF\"><a title=\"Link to this book\" href=\"http://bookmooch.com/0002200295\">http://bookmooch.com/0002200295</a></td>\\n        </tr>\\n\\t\\t\\n        </table></td><td valign=\"top\" align=\"right\">\\n\\t\\t<a target=\"lgamazon\" onmouseover=\"this.T_WIDTH=\\'\\';return escape(\\'<img src=\\\\\\'http://images.amazon.com/images/P/0002200295.01._BO1,130,130,130_PC_SCLZZZZZZZ_.jpg\\\\\\' height=\\\\\\'\\\\\\' width=\\\\\\'\\\\\\'>\\')\" href=\"http://ecx.images-amazon.com/images/I/41QKZT5V85L.jpg\" title=\"large book cover\"><img alt=\"large book cover\" border=0 height=152 width=91 src=\"http://images.amazon.com/images/P/0002200295.01._BO1,130,130,130_PC_SCMZZZZZZZ_.jpg\" align=\"none\"></a><p>\\n\\t\\t<p>\\n\\t\\t<table id=\"button\" height=\"18\" border=\"0\" cellpadding=\"0\" cellspacing=\"0\">\\n\\t<tr>\\n\\t\\t<td bgcolor=\"#6EB0B1\">\\n\\t\\t\\t<a href=\"/m/wishlist_add?asin=0002200295&store=amazon.co.uk\"  title=\"add this book to the list of books you want right away\"><img border=0 bgcolor=\"#6EB0B1\" src=\"http://i.bookmooch.com/images/button_template_left.gif\" width=\"5\" height=\"18\" alt=\"\"></a></td>\\n\\t\\t<td valign=\"middle\" height=\"18\" bgcolor=\"#6EB0B1\"><a  STYLE=\"text-decoration:none\" href=\"/m/wishlist_add?asin=0002200295&store=amazon.co.uk\" title=\"add this book to the list of books you want right away\"><font face=\"Verdana, Arial, utopia, sans-serif\" size=2 color=\"#FFFFFF\"><nobr>WISHLIST&nbsp;ADD&nbsp;></nobr></font></a></td>\\n\\t\\t<td bgcolor=\"#6EB0B1\">\\n\\t\\t\\t<a  href=\"/m/wishlist_add?asin=0002200295&store=amazon.co.uk\" title=\"add this book to the list of books you want right away\"><img border=0 bgcolor=\"#6EB0B1\" src=\"http://i.bookmooch.com/images/button_template_right.gif\" width=\"6\" height=\"18\" alt=\"\"></a></td>\\n\\t</tr>\\n</table><img src=\"http://i.bookmooch.com/images/spacer.gif\" width=\"1\" height=\"2\" alt=\"\"><br>\\n\\t\\t<table id=\"button\" height=\"18\" border=\"0\" cellpadding=\"0\" cellspacing=\"0\">\\n\\t<tr>\\n\\t\\t<td bgcolor=\"#6EB0B1\">\\n\\t\\t\\t<a href=\"/m/savelater_add?asin=0002200295&store=amazon.co.uk\"  title=\"add this book to those you may someday want\"><img border=0 bgcolor=\"#6EB0B1\" src=\"http://i.bookmooch.com/images/button_template_left.gif\" width=\"5\" height=\"18\" alt=\"\"></a></td>\\n\\t\\t<td valign=\"middle\" height=\"18\" bgcolor=\"#6EB0B1\"><a  STYLE=\"text-decoration:none\" href=\"/m/savelater_add?asin=0002200295&store=amazon.co.uk\" title=\"add this book to those you may someday want\"><font face=\"Verdana, Arial, utopia, sans-serif\" size=2 color=\"#FFFFFF\"><nobr>SAVE&nbsp;FOR&nbsp;LATER&nbsp;></nobr></font></a></td>\\n\\t\\t<td bgcolor=\"#6EB0B1\">\\n\\t\\t\\t<a  href=\"/m/savelater_add?asin=0002200295&store=amazon.co.uk\" title=\"add this book to those you may someday want\"><img border=0 bgcolor=\"#6EB0B1\" src=\"http://i.bookmooch.com/images/button_template_right.gif\" width=\"6\" height=\"18\" alt=\"\"></a></td>\\n\\t</tr>\\n</table><img src=\"http://i.bookmooch.com/images/spacer.gif\" width=\"1\" height=\"2\" alt=\"\"><br>\\n\\t\\t<table id=\"button\" height=\"18\" border=\"0\" cellpadding=\"0\" cellspacing=\"0\">\\n\\t<tr>\\n\\t\\t<td bgcolor=\"#6EB0B1\">\\n\\t\\t\\t<a href=\"http://www.amazon.it/gp/product/0002200295?ie=UTF8&tag=book05e-21&linkCode=bn1\"  target=\"amazon-0002200295\"  title=\"more info about this book at Amazon (a small commission goes to BookMooch if you buy books with this link)\"><img border=0 bgcolor=\"#6EB0B1\" src=\"http://i.bookmooch.com/images/button_template_left.gif\" width=\"5\" height=\"18\" alt=\"\"></a></td>\\n\\t\\t<td valign=\"middle\" height=\"18\" bgcolor=\"#6EB0B1\"><a  target=\"amazon-0002200295\"  STYLE=\"text-decoration:none\" href=\"http://www.amazon.it/gp/product/0002200295?ie=UTF8&tag=book05e-21&linkCode=bn1\" title=\"more info about this book at Amazon (a small commission goes to BookMooch if you buy books with this link)\"><font face=\"Verdana, Arial, utopia, sans-serif\" size=2 color=\"#FFFFFF\"><nobr>AMAZON&nbsp;></nobr></font></a></td>\\n\\t\\t<td bgcolor=\"#6EB0B1\">\\n\\t\\t\\t<a  target=\"amazon-0002200295\"  href=\"http://www.amazon.it/gp/product/0002200295?ie=UTF8&tag=book05e-21&linkCode=bn1\" title=\"more info about this book at Amazon (a small commission goes to BookMooch if you buy books with this link)\"><img border=0 bgcolor=\"#6EB0B1\" src=\"http://i.bookmooch.com/images/button_template_right.gif\" width=\"6\" height=\"18\" alt=\"\"></a></td>\\n\\t</tr>\\n</table><img src=\"http://i.bookmooch.com/images/spacer.gif\" width=\"1\" height=\"2\" alt=\"\"><br>\\n\\t\\t<table id=\"button\" height=\"18\" border=\"0\" cellpadding=\"0\" cellspacing=\"0\">\\n\\t<tr>\\n\\t\\t<td bgcolor=\"#6EB0B1\">\\n\\t\\t\\t<a href=\"/book_sites?asin=0002200295\"  title=\"other web sites with information about this book\"><img border=0 bgcolor=\"#6EB0B1\" src=\"http://i.bookmooch.com/images/button_template_left.gif\" width=\"5\" height=\"18\" alt=\"\"></a></td>\\n\\t\\t<td valign=\"middle\" height=\"18\" bgcolor=\"#6EB0B1\"><a  STYLE=\"text-decoration:none\" href=\"/book_sites?asin=0002200295\" title=\"other web sites with information about this book\"><font face=\"Verdana, Arial, utopia, sans-serif\" size=2 color=\"#FFFFFF\"><nobr>OTHER&nbsp;WEB&nbsp;SITES&nbsp;></nobr></font></a></td>\\n\\t\\t<td bgcolor=\"#6EB0B1\">\\n\\t\\t\\t<a  href=\"/book_sites?asin=0002200295\" title=\"other web sites with information about this book\"><img border=0 bgcolor=\"#6EB0B1\" src=\"http://i.bookmooch.com/images/button_template_right.gif\" width=\"6\" height=\"18\" alt=\"\"></a></td>\\n\\t</tr>\\n</table><img src=\"http://i.bookmooch.com/images/spacer.gif\" width=\"1\" height=\"2\" alt=\"\"><br>\\n\\t\\t<table id=\"button\" height=\"18\" border=\"0\" cellpadding=\"0\" cellspacing=\"0\">\\n\\t<tr>\\n\\t\\t<td bgcolor=\"#6EB0B1\">\\n\\t\\t\\t<a href=\"/related_show?asin=0002200295\"  title=\"show books that are related editions to this one\"><img border=0 bgcolor=\"#6EB0B1\" src=\"http://i.bookmooch.com/images/button_template_left.gif\" width=\"5\" height=\"18\" alt=\"\"></a></td>\\n\\t\\t<td valign=\"middle\" height=\"18\" bgcolor=\"#6EB0B1\"><a  STYLE=\"text-decoration:none\" href=\"/related_show?asin=0002200295\" title=\"show books that are related editions to this one\"><font face=\"Verdana, Arial, utopia, sans-serif\" size=2 color=\"#FFFFFF\"><nobr>RELATED&nbsp;EDITIONS&nbsp;></nobr></font></a></td>\\n\\t\\t<td bgcolor=\"#6EB0B1\">\\n\\t\\t\\t<a  href=\"/related_show?asin=0002200295\" title=\"show books that are related editions to this one\"><img border=0 bgcolor=\"#6EB0B1\" src=\"http://i.bookmooch.com/images/button_template_right.gif\" width=\"6\" height=\"18\" alt=\"\"></a></td>\\n\\t</tr>\\n</table><img src=\"http://i.bookmooch.com/images/spacer.gif\" width=\"1\" height=\"2\" alt=\"\"><br>\\n\\t\\t<table id=\"button\" height=\"18\" border=\"0\" cellpadding=\"0\" cellspacing=\"0\">\\n\\t<tr>\\n\\t\\t<td bgcolor=\"#6EB0B1\">\\n\\t\\t\\t<a href=\"/recommend?asin=0002200295\"  title=\"recommend this book to someone else\"><img border=0 bgcolor=\"#6EB0B1\" src=\"http://i.bookmooch.com/images/button_template_left.gif\" width=\"5\" height=\"18\" alt=\"\"></a></td>\\n\\t\\t<td valign=\"middle\" height=\"18\" bgcolor=\"#6EB0B1\"><a  STYLE=\"text-decoration:none\" href=\"/recommend?asin=0002200295\" title=\"recommend this book to someone else\"><font face=\"Verdana, Arial, utopia, sans-serif\" size=2 color=\"#FFFFFF\"><nobr>RECOMMEND&nbsp;></nobr></font></a></td>\\n\\t\\t<td bgcolor=\"#6EB0B1\">\\n\\t\\t\\t<a  href=\"/recommend?asin=0002200295\" title=\"recommend this book to someone else\"><img border=0 bgcolor=\"#6EB0B1\" src=\"http://i.bookmooch.com/images/button_template_right.gif\" width=\"6\" height=\"18\" alt=\"\"></a></td>\\n\\t</tr>\\n</table><img src=\"http://i.bookmooch.com/images/spacer.gif\" width=\"1\" height=\"2\" alt=\"\"><br>\\n\\t\\t\\n\\t\\t\\n\\t\\n\\t</td></tr></table>\\n\\t</td><td width=10><img src=\"http://i.bookmooch.com/images/spacer.gif\" width=\"10\" height=\"1\" alt=\"\"></td><td xbgcolor=AAAAAA valign=\"top\" width=320><link rel=\"stylesheet\" type=\"text/css\" href=\"http://cache.blogads.com/582081819/feed.css\" /><script language=\"javascript\" src=\"http://cache.blogads.com/582081819/feed.js\"></script><link rel=\"stylesheet\" type=\"text/css\" href=\"http://cache.blogads.com/990819385/feed.css\" /><script language=\"javascript\" src=\"http://cache.blogads.com/990819385/feed.js\"></script><br/></td></tr></table>\\n    \\n</td><td><img src=\"http://i.bookmooch.com/images/spacer.gif\" width=\"12\" height=\"12\" alt=\"\"></td></tr><tr><td></td><td></td></tr></table>\\n<script language=\"JavaScript\" type=\"text/javascript\" src=\"http://i.bookmooch.com/js/wz_tooltip.js\"></script>\\n</body>\\n</html>'"
      ]
     },
     "execution_count": 12,
     "metadata": {},
     "output_type": "execute_result"
    }
   ],
   "source": [
    "df_plain.loc[549].text"
   ]
  },
  {
   "cell_type": "markdown",
   "metadata": {
    "id": "IlSeYg4sDMVQ"
   },
   "source": [
    "# Duplicates detection. LSH"
   ]
  },
  {
   "cell_type": "markdown",
   "metadata": {
    "id": "ZuMBHSiDDMVR"
   },
   "source": [
    "#### Library that I used\n",
    "\n",
    "LSH - https://github.com/ekzhu/datasketch"
   ]
  },
  {
   "cell_type": "markdown",
   "metadata": {
    "id": "uff5aBpgDMVR"
   },
   "source": [
    "1. Detect duplicated text (duplicates do not imply a complete word-to-word match, but texts that may contain a paraphrase, rearrangement of words, sentences)\n",
    "1. Make a plot dependency of duplicates on shingle size (with fixed minhash length) \n",
    "1. Make a plot dependency of duplicates on minhash length (with fixed shingle size)"
   ]
  },
  {
   "cell_type": "code",
   "execution_count": 14,
   "metadata": {
    "id": "QOFZ7AvyDMVS"
   },
   "outputs": [
    {
     "name": "stdout",
     "output_type": "stream",
     "text": [
      "Collecting datasketch\n",
      "  Downloading datasketch-1.5.7-py2.py3-none-any.whl (75 kB)\n",
      "Requirement already satisfied: numpy>=1.11 in c:\\users\\роман\\appdata\\local\\programs\\python\\python39\\lib\\site-packages (from datasketch) (1.21.5)\n",
      "Requirement already satisfied: scipy>=1.0.0 in c:\\users\\роман\\appdata\\local\\programs\\python\\python39\\lib\\site-packages (from datasketch) (1.7.3)\n",
      "Installing collected packages: datasketch\n",
      "Successfully installed datasketch-1.5.7\n"
     ]
    },
    {
     "name": "stderr",
     "output_type": "stream",
     "text": [
      "WARNING: You are using pip version 21.2.4; however, version 22.0.4 is available.\n",
      "You should consider upgrading via the 'C:\\Users\\Роман\\AppData\\Local\\Programs\\Python\\Python39\\python.exe -m pip install --upgrade pip' command.\n"
     ]
    }
   ],
   "source": [
    "!pip install datasketch"
   ]
  },
  {
   "cell_type": "code",
   "execution_count": null,
   "metadata": {
    "id": "HPonm9U3DMVS"
   },
   "outputs": [],
   "source": [
    "from datasketch import MinHash, MinHashLSH\n",
    "from tqdm.notebook import tqdm"
   ]
  },
  {
   "cell_type": "code",
   "execution_count": 196,
   "metadata": {},
   "outputs": [],
   "source": [
    "def get_shingles(text, char_ngram=5):\n",
    "    \"\"\"Create a set of overlapping character n-grams.\n",
    "\n",
    "    Only full length character n-grams are created, that is the first character\n",
    "    n-gram is the first `char_ngram` characters from text, no padding is applied.\n",
    "\n",
    "    Each n-gram is spaced exactly one character apart.\n",
    "\n",
    "    Parameters\n",
    "    ----------\n",
    "\n",
    "    text: str\n",
    "        The string from which the character n-grams are created.\n",
    "\n",
    "    char_ngram: int (default 5)\n",
    "        Length of each character n-gram.\n",
    "    \"\"\"\n",
    "    return set(text[head:head + char_ngram] for head in range(0, len(text) - char_ngram))"
   ]
  },
  {
   "cell_type": "code",
   "execution_count": 224,
   "metadata": {},
   "outputs": [],
   "source": [
    "N = 1000"
   ]
  },
  {
   "cell_type": "code",
   "execution_count": 263,
   "metadata": {
    "id": "HPonm9U3DMVS"
   },
   "outputs": [],
   "source": [
    "shingles = [3, 5, 7, 9, 12]\n",
    "hash_size = [32, 64, 128, 256]"
   ]
  },
  {
   "cell_type": "code",
   "execution_count": 264,
   "metadata": {},
   "outputs": [
    {
     "data": {
      "application/vnd.jupyter.widget-view+json": {
       "model_id": "d9dac3448f4649dbaa85b4282f7d5677",
       "version_major": 2,
       "version_minor": 0
      },
      "text/plain": [
       "  0%|          | 0/1000 [00:00<?, ?it/s]"
      ]
     },
     "metadata": {},
     "output_type": "display_data"
    },
    {
     "data": {
      "application/vnd.jupyter.widget-view+json": {
       "model_id": "0199a9786fb6403f8175285948c1fc1a",
       "version_major": 2,
       "version_minor": 0
      },
      "text/plain": [
       "  0%|          | 0/1000 [00:00<?, ?it/s]"
      ]
     },
     "metadata": {},
     "output_type": "display_data"
    },
    {
     "data": {
      "application/vnd.jupyter.widget-view+json": {
       "model_id": "87267cdecd744b67b78cea4227b964c6",
       "version_major": 2,
       "version_minor": 0
      },
      "text/plain": [
       "  0%|          | 0/1000 [00:00<?, ?it/s]"
      ]
     },
     "metadata": {},
     "output_type": "display_data"
    },
    {
     "data": {
      "application/vnd.jupyter.widget-view+json": {
       "model_id": "fd74793c5c804ed180b29f351187e9ba",
       "version_major": 2,
       "version_minor": 0
      },
      "text/plain": [
       "  0%|          | 0/1000 [00:00<?, ?it/s]"
      ]
     },
     "metadata": {},
     "output_type": "display_data"
    },
    {
     "data": {
      "application/vnd.jupyter.widget-view+json": {
       "model_id": "02156ebc79a94162828ad47093c1180d",
       "version_major": 2,
       "version_minor": 0
      },
      "text/plain": [
       "  0%|          | 0/1000 [00:00<?, ?it/s]"
      ]
     },
     "metadata": {},
     "output_type": "display_data"
    }
   ],
   "source": [
    "dt = {}\n",
    "for k in shingles:\n",
    "    # calculate hash for every text\n",
    "    hash_vector = []\n",
    "    for i in range(N):\n",
    "        text = df.loc[i].text\n",
    "        shingles_text = get_shingles(text, k)\n",
    "        m = MinHash(num_perm=64)\n",
    "        for d in shingles_text:\n",
    "            m.update(d.encode('utf8'))\n",
    "        hash_vector.append(m)\n",
    "\n",
    "    s = 0\n",
    "    for i in tqdm(range(N)):\n",
    "        # if Jaccard similarity more than 0.75 I consider texts as dublicates\n",
    "        lsh = MinHashLSH(threshold=0.75, num_perm=64)\n",
    "        for j in range(i+1, N):\n",
    "            lsh.insert(f\"hash{j}\", hash_vector[j])\n",
    "\n",
    "        s += len(lsh.query(hash_vector[i]))\n",
    "\n",
    "    dt[k] = s"
   ]
  },
  {
   "cell_type": "code",
   "execution_count": 265,
   "metadata": {},
   "outputs": [
    {
     "data": {
      "image/png": "[encoded data removed]",
      "text/plain": [
       "<Figure size 1152x648 with 1 Axes>"
      ]
     },
     "metadata": {
      "needs_background": "light"
     },
     "output_type": "display_data"
    }
   ],
   "source": [
    "plt.figure(figsize=(16,9))\n",
    "plt.xlabel(\"Shingle size\")\n",
    "plt.ylabel(\"Number of pairs of dublicates\")\n",
    "plt.title(\"Number of permutations = 64\")\n",
    "plt.plot(dt.keys(), dt.values())\n",
    "plt.show()"
   ]
  },
  {
   "cell_type": "markdown",
   "metadata": {},
   "source": [
    "### With increasing shingle size, number of dublicates is decreasing. That happens because of more \"word-like\" shingles. Also, big shingle size like 9 or 12 leads to unexpected results, I think because shingles will be like incomprehensible garbage. For better result, you better use shingle size = 5 or 7"
   ]
  },
  {
   "cell_type": "code",
   "execution_count": 261,
   "metadata": {},
   "outputs": [
    {
     "data": {
      "application/vnd.jupyter.widget-view+json": {
       "model_id": "69fa2eb49ef1471fbcdba06af8f441ca",
       "version_major": 2,
       "version_minor": 0
      },
      "text/plain": [
       "  0%|          | 0/1000 [00:00<?, ?it/s]"
      ]
     },
     "metadata": {},
     "output_type": "display_data"
    },
    {
     "data": {
      "application/vnd.jupyter.widget-view+json": {
       "model_id": "f1cc6482d1b949efa32cc8ea0c068cef",
       "version_major": 2,
       "version_minor": 0
      },
      "text/plain": [
       "  0%|          | 0/1000 [00:00<?, ?it/s]"
      ]
     },
     "metadata": {},
     "output_type": "display_data"
    },
    {
     "data": {
      "application/vnd.jupyter.widget-view+json": {
       "model_id": "a078f0522bb34ec3ba7f6ddcc6f52569",
       "version_major": 2,
       "version_minor": 0
      },
      "text/plain": [
       "  0%|          | 0/1000 [00:00<?, ?it/s]"
      ]
     },
     "metadata": {},
     "output_type": "display_data"
    },
    {
     "data": {
      "application/vnd.jupyter.widget-view+json": {
       "model_id": "30eea66355be4c88a67933c28dd1ffed",
       "version_major": 2,
       "version_minor": 0
      },
      "text/plain": [
       "  0%|          | 0/1000 [00:00<?, ?it/s]"
      ]
     },
     "metadata": {},
     "output_type": "display_data"
    }
   ],
   "source": [
    "dt = {}\n",
    "for perm in hash_size:\n",
    "    # calculate hash for every text\n",
    "    hash_vector = []\n",
    "    for i in range(N):\n",
    "        text = df.loc[i].text\n",
    "        shingles_text = get_shingles(text, 5)\n",
    "        m = MinHash(num_perm=perm)\n",
    "        for d in shingles_text:\n",
    "            m.update(d.encode('utf8'))\n",
    "        hash_vector.append(m)\n",
    "\n",
    "    s = 0\n",
    "    for i in tqdm(range(N)):\n",
    "        lsh = MinHashLSH(threshold=0.75, num_perm=perm)\n",
    "        for j in range(i+1, N):\n",
    "            lsh.insert(f\"hash{j}\", hash_vector[j])\n",
    "\n",
    "        s += len(lsh.query(hash_vector[i]))\n",
    "\n",
    "    dt[perm] = s"
   ]
  },
  {
   "cell_type": "code",
   "execution_count": 262,
   "metadata": {},
   "outputs": [
    {
     "data": {
      "image/png": "[encoded data removed]",
      "text/plain": [
       "<Figure size 1152x648 with 1 Axes>"
      ]
     },
     "metadata": {
      "needs_background": "light"
     },
     "output_type": "display_data"
    }
   ],
   "source": [
    "plt.figure(figsize=(16, 9))\n",
    "plt.xlabel(\"Number of permutations size\")\n",
    "plt.ylabel(\"Number of pairs of dublicates\")\n",
    "plt.title(\"Shingle size = 5\")\n",
    "plt.plot(dt.keys(), dt.values())\n",
    "plt.show()"
   ]
  },
  {
   "cell_type": "markdown",
   "metadata": {},
   "source": [
    "### With increasing permutation number, number of dublicates is decreasing. That happens because of lower amount of collisions due to bigger hash size. In addition, computational time also doubles with doubling permutation number."
   ]
  },
  {
   "cell_type": "markdown",
   "metadata": {
    "id": "njdTa1daDMVS"
   },
   "source": [
    "# Topic model"
   ]
  },
  {
   "cell_type": "markdown",
   "metadata": {
    "id": "WkNFzxqPDMVU"
   },
   "source": [
    "The provided data contain chunked stories by Edgar Allan Poe (EAP), Mary Shelley (MWS), and HP Lovecraft (HPL).\n",
    "\n",
    "The dataset can be downloaded here: `https://drive.google.com/file/d/14tAjAzHr6UmFVFV7ABTyNHBh-dWHAaLH/view?usp=sharing`"
   ]
  },
  {
   "cell_type": "code",
   "execution_count": 46,
   "metadata": {
    "id": "9B8PZNRyDMVV"
   },
   "outputs": [
    {
     "data": {
      "text/html": [
       "<div>\n",
       "<style scoped>\n",
       "    .dataframe tbody tr th:only-of-type {\n",
       "        vertical-align: middle;\n",
       "    }\n",
       "\n",
       "    .dataframe tbody tr th {\n",
       "        vertical-align: top;\n",
       "    }\n",
       "\n",
       "    .dataframe thead th {\n",
       "        text-align: right;\n",
       "    }\n",
       "</style>\n",
       "<table border=\"1\" class=\"dataframe\">\n",
       "  <thead>\n",
       "    <tr style=\"text-align: right;\">\n",
       "      <th></th>\n",
       "      <th>id</th>\n",
       "      <th>text</th>\n",
       "      <th>author</th>\n",
       "    </tr>\n",
       "  </thead>\n",
       "  <tbody>\n",
       "    <tr>\n",
       "      <th>0</th>\n",
       "      <td>id26305</td>\n",
       "      <td>This process, however, afforded me no means of...</td>\n",
       "      <td>EAP</td>\n",
       "    </tr>\n",
       "    <tr>\n",
       "      <th>1</th>\n",
       "      <td>id17569</td>\n",
       "      <td>It never once occurred to me that the fumbling...</td>\n",
       "      <td>HPL</td>\n",
       "    </tr>\n",
       "    <tr>\n",
       "      <th>2</th>\n",
       "      <td>id11008</td>\n",
       "      <td>In his left hand was a gold snuff box, from wh...</td>\n",
       "      <td>EAP</td>\n",
       "    </tr>\n",
       "    <tr>\n",
       "      <th>3</th>\n",
       "      <td>id27763</td>\n",
       "      <td>How lovely is spring As we looked from Windsor...</td>\n",
       "      <td>MWS</td>\n",
       "    </tr>\n",
       "    <tr>\n",
       "      <th>4</th>\n",
       "      <td>id12958</td>\n",
       "      <td>Finding nothing else, not even gold, the Super...</td>\n",
       "      <td>HPL</td>\n",
       "    </tr>\n",
       "  </tbody>\n",
       "</table>\n",
       "</div>"
      ],
      "text/plain": [
       "        id                                               text author\n",
       "0  id26305  This process, however, afforded me no means of...    EAP\n",
       "1  id17569  It never once occurred to me that the fumbling...    HPL\n",
       "2  id11008  In his left hand was a gold snuff box, from wh...    EAP\n",
       "3  id27763  How lovely is spring As we looked from Windsor...    MWS\n",
       "4  id12958  Finding nothing else, not even gold, the Super...    HPL"
      ]
     },
     "execution_count": 46,
     "metadata": {},
     "output_type": "execute_result"
    }
   ],
   "source": [
    "data = pd.read_csv(\"data.csv\")\n",
    "data.head()"
   ]
  },
  {
   "cell_type": "code",
   "execution_count": 42,
   "metadata": {},
   "outputs": [
    {
     "name": "stderr",
     "output_type": "stream",
     "text": [
      "C:\\Users\\Роман\\AppData\\Local\\Programs\\Python\\Python39\\lib\\site-packages\\scipy\\sparse\\sparsetools.py:21: DeprecationWarning:\n",
      "\n",
      "`scipy.sparse.sparsetools` is deprecated!\n",
      "scipy.sparse.sparsetools is a private module for scipy.sparse, and should not be used.\n",
      "\n",
      "[nltk_data] Downloading package wordnet to\n",
      "[nltk_data]     C:\\Users\\Роман\\AppData\\Roaming\\nltk_data...\n",
      "[nltk_data]   Package wordnet is already up-to-date!\n"
     ]
    },
    {
     "data": {
      "text/plain": [
       "True"
      ]
     },
     "execution_count": 42,
     "metadata": {},
     "output_type": "execute_result"
    }
   ],
   "source": [
    "import gensim\n",
    "from gensim.utils import simple_preprocess\n",
    "from gensim.parsing.preprocessing import STOPWORDS\n",
    "\n",
    "from nltk.stem import WordNetLemmatizer\n",
    "from nltk.tokenize import TreebankWordTokenizer\n",
    "from nltk.corpus import stopwords\n",
    "import nltk\n",
    "nltk.download('wordnet')"
   ]
  },
  {
   "cell_type": "code",
   "execution_count": 43,
   "metadata": {
    "id": "_Uh0J_C8DMVY"
   },
   "outputs": [],
   "source": [
    "def preprocess(text):\n",
    "    text = text.lower()\n",
    "    text = re.sub(r\"[^A-Za-z]\", \" \", text)\n",
    "    \n",
    "    # tokenizing\n",
    "    tokens = TreebankWordTokenizer().tokenize(text)\n",
    "\n",
    "    # lemmatize\n",
    "    lemmatizer = WordNetLemmatizer()\n",
    "    tokens = [lemmatizer.lemmatize(token) for token in tokens]\n",
    "    \n",
    "    \n",
    "    result = []\n",
    "    for token in gensim.utils.simple_preprocess(text):\n",
    "        if token not in gensim.parsing.preprocessing.STOPWORDS and len(token) > 3:\n",
    "            result.append(token)\n",
    "    \n",
    "    return result"
   ]
  },
  {
   "cell_type": "code",
   "execution_count": 47,
   "metadata": {},
   "outputs": [
    {
     "name": "stdout",
     "output_type": "stream",
     "text": [
      "original document: \n",
      "['This', 'process,', 'however,', 'afforded', 'me', 'no', 'means', 'of', 'ascertaining', 'the', 'dimensions', 'of', 'my', 'dungeon;', 'as', 'I', 'might', 'make', 'its', 'circuit,', 'and', 'return', 'to', 'the', 'point', 'whence', 'I', 'set', 'out,', 'without', 'being', 'aware', 'of', 'the', 'fact;', 'so', 'perfectly', 'uniform', 'seemed', 'the', 'wall.']\n",
      "\n",
      "\n",
      " tokenized and lemmatized document: \n",
      "['process', 'afforded', 'means', 'ascertaining', 'dimensions', 'dungeon', 'circuit', 'return', 'point', 'aware', 'fact', 'perfectly', 'uniform', 'wall']\n"
     ]
    }
   ],
   "source": [
    "doc_sample = data.text[0]\n",
    "print('original document: ')\n",
    "words = []\n",
    "for word in doc_sample.split(' '):\n",
    "    words.append(word)\n",
    "print(words)\n",
    "print('\\n\\n tokenized and lemmatized document: ')\n",
    "print(preprocess(doc_sample))"
   ]
  },
  {
   "cell_type": "code",
   "execution_count": 48,
   "metadata": {},
   "outputs": [
    {
     "data": {
      "text/html": [
       "<div>\n",
       "<style scoped>\n",
       "    .dataframe tbody tr th:only-of-type {\n",
       "        vertical-align: middle;\n",
       "    }\n",
       "\n",
       "    .dataframe tbody tr th {\n",
       "        vertical-align: top;\n",
       "    }\n",
       "\n",
       "    .dataframe thead th {\n",
       "        text-align: right;\n",
       "    }\n",
       "</style>\n",
       "<table border=\"1\" class=\"dataframe\">\n",
       "  <thead>\n",
       "    <tr style=\"text-align: right;\">\n",
       "      <th></th>\n",
       "      <th>id</th>\n",
       "      <th>text</th>\n",
       "      <th>author</th>\n",
       "    </tr>\n",
       "  </thead>\n",
       "  <tbody>\n",
       "    <tr>\n",
       "      <th>0</th>\n",
       "      <td>id26305</td>\n",
       "      <td>This process, however, afforded me no means of...</td>\n",
       "      <td>EAP</td>\n",
       "    </tr>\n",
       "    <tr>\n",
       "      <th>1</th>\n",
       "      <td>id17569</td>\n",
       "      <td>It never once occurred to me that the fumbling...</td>\n",
       "      <td>HPL</td>\n",
       "    </tr>\n",
       "    <tr>\n",
       "      <th>2</th>\n",
       "      <td>id11008</td>\n",
       "      <td>In his left hand was a gold snuff box, from wh...</td>\n",
       "      <td>EAP</td>\n",
       "    </tr>\n",
       "    <tr>\n",
       "      <th>3</th>\n",
       "      <td>id27763</td>\n",
       "      <td>How lovely is spring As we looked from Windsor...</td>\n",
       "      <td>MWS</td>\n",
       "    </tr>\n",
       "    <tr>\n",
       "      <th>4</th>\n",
       "      <td>id12958</td>\n",
       "      <td>Finding nothing else, not even gold, the Super...</td>\n",
       "      <td>HPL</td>\n",
       "    </tr>\n",
       "  </tbody>\n",
       "</table>\n",
       "</div>"
      ],
      "text/plain": [
       "        id                                               text author\n",
       "0  id26305  This process, however, afforded me no means of...    EAP\n",
       "1  id17569  It never once occurred to me that the fumbling...    HPL\n",
       "2  id11008  In his left hand was a gold snuff box, from wh...    EAP\n",
       "3  id27763  How lovely is spring As we looked from Windsor...    MWS\n",
       "4  id12958  Finding nothing else, not even gold, the Super...    HPL"
      ]
     },
     "execution_count": 48,
     "metadata": {},
     "output_type": "execute_result"
    }
   ],
   "source": [
    "data.head()"
   ]
  },
  {
   "cell_type": "code",
   "execution_count": 49,
   "metadata": {},
   "outputs": [],
   "source": [
    "data_processed = pd.DataFrame(\n",
    "    data={'text': [preprocess(data.loc[i].text) for i in range(data.shape[0])],\n",
    "          'author': data.author\n",
    "          })"
   ]
  },
  {
   "cell_type": "code",
   "execution_count": 50,
   "metadata": {},
   "outputs": [
    {
     "data": {
      "text/html": [
       "<div>\n",
       "<style scoped>\n",
       "    .dataframe tbody tr th:only-of-type {\n",
       "        vertical-align: middle;\n",
       "    }\n",
       "\n",
       "    .dataframe tbody tr th {\n",
       "        vertical-align: top;\n",
       "    }\n",
       "\n",
       "    .dataframe thead th {\n",
       "        text-align: right;\n",
       "    }\n",
       "</style>\n",
       "<table border=\"1\" class=\"dataframe\">\n",
       "  <thead>\n",
       "    <tr style=\"text-align: right;\">\n",
       "      <th></th>\n",
       "      <th>text</th>\n",
       "      <th>author</th>\n",
       "    </tr>\n",
       "  </thead>\n",
       "  <tbody>\n",
       "    <tr>\n",
       "      <th>0</th>\n",
       "      <td>[process, afforded, means, ascertaining, dimen...</td>\n",
       "      <td>EAP</td>\n",
       "    </tr>\n",
       "    <tr>\n",
       "      <th>1</th>\n",
       "      <td>[occurred, fumbling, mere, mistake]</td>\n",
       "      <td>HPL</td>\n",
       "    </tr>\n",
       "    <tr>\n",
       "      <th>2</th>\n",
       "      <td>[left, hand, gold, snuff, capered, hill, cutti...</td>\n",
       "      <td>EAP</td>\n",
       "    </tr>\n",
       "    <tr>\n",
       "      <th>3</th>\n",
       "      <td>[lovely, spring, looked, windsor, terrace, six...</td>\n",
       "      <td>MWS</td>\n",
       "    </tr>\n",
       "    <tr>\n",
       "      <th>4</th>\n",
       "      <td>[finding, gold, superintendent, abandoned, att...</td>\n",
       "      <td>HPL</td>\n",
       "    </tr>\n",
       "    <tr>\n",
       "      <th>...</th>\n",
       "      <td>...</td>\n",
       "      <td>...</td>\n",
       "    </tr>\n",
       "    <tr>\n",
       "      <th>19574</th>\n",
       "      <td>[fancied, looked, eminent, landscape, painter,...</td>\n",
       "      <td>EAP</td>\n",
       "    </tr>\n",
       "    <tr>\n",
       "      <th>19575</th>\n",
       "      <td>[lids, clenched, spasm]</td>\n",
       "      <td>EAP</td>\n",
       "    </tr>\n",
       "    <tr>\n",
       "      <th>19576</th>\n",
       "      <td>[mais, faut, agir, frenchman, faints, outright]</td>\n",
       "      <td>EAP</td>\n",
       "    </tr>\n",
       "    <tr>\n",
       "      <th>19577</th>\n",
       "      <td>[item, news, like, strikes, coolly, received]</td>\n",
       "      <td>EAP</td>\n",
       "    </tr>\n",
       "    <tr>\n",
       "      <th>19578</th>\n",
       "      <td>[laid, gnarled, claw, shoulder, shaking, altog...</td>\n",
       "      <td>HPL</td>\n",
       "    </tr>\n",
       "  </tbody>\n",
       "</table>\n",
       "<p>19579 rows × 2 columns</p>\n",
       "</div>"
      ],
      "text/plain": [
       "                                                    text author\n",
       "0      [process, afforded, means, ascertaining, dimen...    EAP\n",
       "1                    [occurred, fumbling, mere, mistake]    HPL\n",
       "2      [left, hand, gold, snuff, capered, hill, cutti...    EAP\n",
       "3      [lovely, spring, looked, windsor, terrace, six...    MWS\n",
       "4      [finding, gold, superintendent, abandoned, att...    HPL\n",
       "...                                                  ...    ...\n",
       "19574  [fancied, looked, eminent, landscape, painter,...    EAP\n",
       "19575                            [lids, clenched, spasm]    EAP\n",
       "19576    [mais, faut, agir, frenchman, faints, outright]    EAP\n",
       "19577      [item, news, like, strikes, coolly, received]    EAP\n",
       "19578  [laid, gnarled, claw, shoulder, shaking, altog...    HPL\n",
       "\n",
       "[19579 rows x 2 columns]"
      ]
     },
     "execution_count": 50,
     "metadata": {},
     "output_type": "execute_result"
    }
   ],
   "source": [
    "data_processed"
   ]
  },
  {
   "cell_type": "markdown",
   "metadata": {
    "id": "rNepVz1wDMVY"
   },
   "source": [
    "Plotting the histogram of resulting tokens counts in the processed datasets."
   ]
  },
  {
   "cell_type": "code",
   "execution_count": 51,
   "metadata": {},
   "outputs": [],
   "source": [
    "text = [item for sublist in data_processed.text for item in sublist]"
   ]
  },
  {
   "cell_type": "code",
   "execution_count": 52,
   "metadata": {},
   "outputs": [
    {
     "data": {
      "application/vnd.plotly.v1+json": {
       "config": {
        "plotlyServerURL": "https://plot.ly"
       },
       "data": [
        {
         "alignmentgroup": "True",
         "hovertemplate": "x=%{x}<br>y=%{y}<extra></extra>",
         "legendgroup": "",
         "marker": {
          "color": "#636efa",
          "pattern": {
           "shape": ""
          }
         },
         "name": "",
         "offsetgroup": "",
         "orientation": "v",
         "showlegend": false,
         "textposition": "auto",
         "type": "bar",
         "x": [
          "time",
          "said",
          "like",
          "life",
          "night",
          "eyes",
          "little",
          "great",
          "long",
          "came",
          "thought",
          "death",
          "mind",
          "heart",
          "things",
          "shall",
          "heard",
          "house",
          "thing",
          "left",
          "years",
          "felt",
          "place",
          "earth",
          "know",
          "love",
          "world",
          "light",
          "come",
          "room",
          "door",
          "head",
          "having",
          "away",
          "hand",
          "words",
          "nature",
          "strange",
          "seen",
          "length",
          "good",
          "friend",
          "human",
          "knew",
          "raymond",
          "voice",
          "soon",
          "father",
          "half",
          "moment",
          "fear",
          "gave",
          "soul",
          "looked",
          "small",
          "body",
          "young",
          "near",
          "took",
          "city",
          "dark",
          "days",
          "certain",
          "passed",
          "went",
          "told",
          "appeared",
          "course",
          "face",
          "think",
          "high",
          "dead",
          "open",
          "spirit",
          "point",
          "black",
          "horror",
          "idea",
          "hope",
          "water",
          "deep",
          "feet",
          "tell",
          "matter",
          "form",
          "began",
          "known",
          "right",
          "kind",
          "look",
          "turned",
          "lost",
          "moon",
          "street",
          "manner",
          "morning",
          "called",
          "hours",
          "brought",
          "present"
         ],
         "xaxis": "x",
         "y": [
          730,
          704,
          613,
          569,
          566,
          540,
          531,
          512,
          511,
          461,
          442,
          396,
          378,
          375,
          369,
          368,
          366,
          366,
          356,
          354,
          346,
          343,
          340,
          337,
          337,
          332,
          323,
          320,
          314,
          304,
          303,
          300,
          296,
          295,
          292,
          292,
          286,
          283,
          282,
          278,
          277,
          275,
          274,
          273,
          272,
          271,
          270,
          267,
          262,
          259,
          241,
          238,
          232,
          231,
          231,
          228,
          228,
          228,
          227,
          226,
          223,
          220,
          220,
          219,
          217,
          217,
          215,
          214,
          212,
          208,
          205,
          203,
          203,
          202,
          200,
          198,
          198,
          195,
          195,
          195,
          191,
          190,
          188,
          187,
          187,
          187,
          186,
          186,
          185,
          181,
          181,
          181,
          179,
          178,
          177,
          177,
          173,
          172,
          170,
          170
         ],
         "yaxis": "y"
        }
       ],
       "layout": {
        "barmode": "relative",
        "height": 500,
        "legend": {
         "tracegroupgap": 0
        },
        "template": {
         "data": {
          "bar": [
           {
            "error_x": {
             "color": "#2a3f5f"
            },
            "error_y": {
             "color": "#2a3f5f"
            },
            "marker": {
             "line": {
              "color": "#E5ECF6",
              "width": 0.5
             },
             "pattern": {
              "fillmode": "overlay",
              "size": 10,
              "solidity": 0.2
             }
            },
            "type": "bar"
           }
          ],
          "barpolar": [
           {
            "marker": {
             "line": {
              "color": "#E5ECF6",
              "width": 0.5
             },
             "pattern": {
              "fillmode": "overlay",
              "size": 10,
              "solidity": 0.2
             }
            },
            "type": "barpolar"
           }
          ],
          "carpet": [
           {
            "aaxis": {
             "endlinecolor": "#2a3f5f",
             "gridcolor": "white",
             "linecolor": "white",
             "minorgridcolor": "white",
             "startlinecolor": "#2a3f5f"
            },
            "baxis": {
             "endlinecolor": "#2a3f5f",
             "gridcolor": "white",
             "linecolor": "white",
             "minorgridcolor": "white",
             "startlinecolor": "#2a3f5f"
            },
            "type": "carpet"
           }
          ],
          "choropleth": [
           {
            "colorbar": {
             "outlinewidth": 0,
             "ticks": ""
            },
            "type": "choropleth"
           }
          ],
          "contour": [
           {
            "colorbar": {
             "outlinewidth": 0,
             "ticks": ""
            },
            "colorscale": [
             [
              0,
              "#0d0887"
             ],
             [
              0.1111111111111111,
              "#46039f"
             ],
             [
              0.2222222222222222,
              "#7201a8"
             ],
             [
              0.3333333333333333,
              "#9c179e"
             ],
             [
              0.4444444444444444,
              "#bd3786"
             ],
             [
              0.5555555555555556,
              "#d8576b"
             ],
             [
              0.6666666666666666,
              "#ed7953"
             ],
             [
              0.7777777777777778,
              "#fb9f3a"
             ],
             [
              0.8888888888888888,
              "#fdca26"
             ],
             [
              1,
              "#f0f921"
             ]
            ],
            "type": "contour"
           }
          ],
          "contourcarpet": [
           {
            "colorbar": {
             "outlinewidth": 0,
             "ticks": ""
            },
            "type": "contourcarpet"
           }
          ],
          "heatmap": [
           {
            "colorbar": {
             "outlinewidth": 0,
             "ticks": ""
            },
            "colorscale": [
             [
              0,
              "#0d0887"
             ],
             [
              0.1111111111111111,
              "#46039f"
             ],
             [
              0.2222222222222222,
              "#7201a8"
             ],
             [
              0.3333333333333333,
              "#9c179e"
             ],
             [
              0.4444444444444444,
              "#bd3786"
             ],
             [
              0.5555555555555556,
              "#d8576b"
             ],
             [
              0.6666666666666666,
              "#ed7953"
             ],
             [
              0.7777777777777778,
              "#fb9f3a"
             ],
             [
              0.8888888888888888,
              "#fdca26"
             ],
             [
              1,
              "#f0f921"
             ]
            ],
            "type": "heatmap"
           }
          ],
          "heatmapgl": [
           {
            "colorbar": {
             "outlinewidth": 0,
             "ticks": ""
            },
            "colorscale": [
             [
              0,
              "#0d0887"
             ],
             [
              0.1111111111111111,
              "#46039f"
             ],
             [
              0.2222222222222222,
              "#7201a8"
             ],
             [
              0.3333333333333333,
              "#9c179e"
             ],
             [
              0.4444444444444444,
              "#bd3786"
             ],
             [
              0.5555555555555556,
              "#d8576b"
             ],
             [
              0.6666666666666666,
              "#ed7953"
             ],
             [
              0.7777777777777778,
              "#fb9f3a"
             ],
             [
              0.8888888888888888,
              "#fdca26"
             ],
             [
              1,
              "#f0f921"
             ]
            ],
            "type": "heatmapgl"
           }
          ],
          "histogram": [
           {
            "marker": {
             "pattern": {
              "fillmode": "overlay",
              "size": 10,
              "solidity": 0.2
             }
            },
            "type": "histogram"
           }
          ],
          "histogram2d": [
           {
            "colorbar": {
             "outlinewidth": 0,
             "ticks": ""
            },
            "colorscale": [
             [
              0,
              "#0d0887"
             ],
             [
              0.1111111111111111,
              "#46039f"
             ],
             [
              0.2222222222222222,
              "#7201a8"
             ],
             [
              0.3333333333333333,
              "#9c179e"
             ],
             [
              0.4444444444444444,
              "#bd3786"
             ],
             [
              0.5555555555555556,
              "#d8576b"
             ],
             [
              0.6666666666666666,
              "#ed7953"
             ],
             [
              0.7777777777777778,
              "#fb9f3a"
             ],
             [
              0.8888888888888888,
              "#fdca26"
             ],
             [
              1,
              "#f0f921"
             ]
            ],
            "type": "histogram2d"
           }
          ],
          "histogram2dcontour": [
           {
            "colorbar": {
             "outlinewidth": 0,
             "ticks": ""
            },
            "colorscale": [
             [
              0,
              "#0d0887"
             ],
             [
              0.1111111111111111,
              "#46039f"
             ],
             [
              0.2222222222222222,
              "#7201a8"
             ],
             [
              0.3333333333333333,
              "#9c179e"
             ],
             [
              0.4444444444444444,
              "#bd3786"
             ],
             [
              0.5555555555555556,
              "#d8576b"
             ],
             [
              0.6666666666666666,
              "#ed7953"
             ],
             [
              0.7777777777777778,
              "#fb9f3a"
             ],
             [
              0.8888888888888888,
              "#fdca26"
             ],
             [
              1,
              "#f0f921"
             ]
            ],
            "type": "histogram2dcontour"
           }
          ],
          "mesh3d": [
           {
            "colorbar": {
             "outlinewidth": 0,
             "ticks": ""
            },
            "type": "mesh3d"
           }
          ],
          "parcoords": [
           {
            "line": {
             "colorbar": {
              "outlinewidth": 0,
              "ticks": ""
             }
            },
            "type": "parcoords"
           }
          ],
          "pie": [
           {
            "automargin": true,
            "type": "pie"
           }
          ],
          "scatter": [
           {
            "marker": {
             "colorbar": {
              "outlinewidth": 0,
              "ticks": ""
             }
            },
            "type": "scatter"
           }
          ],
          "scatter3d": [
           {
            "line": {
             "colorbar": {
              "outlinewidth": 0,
              "ticks": ""
             }
            },
            "marker": {
             "colorbar": {
              "outlinewidth": 0,
              "ticks": ""
             }
            },
            "type": "scatter3d"
           }
          ],
          "scattercarpet": [
           {
            "marker": {
             "colorbar": {
              "outlinewidth": 0,
              "ticks": ""
             }
            },
            "type": "scattercarpet"
           }
          ],
          "scattergeo": [
           {
            "marker": {
             "colorbar": {
              "outlinewidth": 0,
              "ticks": ""
             }
            },
            "type": "scattergeo"
           }
          ],
          "scattergl": [
           {
            "marker": {
             "colorbar": {
              "outlinewidth": 0,
              "ticks": ""
             }
            },
            "type": "scattergl"
           }
          ],
          "scattermapbox": [
           {
            "marker": {
             "colorbar": {
              "outlinewidth": 0,
              "ticks": ""
             }
            },
            "type": "scattermapbox"
           }
          ],
          "scatterpolar": [
           {
            "marker": {
             "colorbar": {
              "outlinewidth": 0,
              "ticks": ""
             }
            },
            "type": "scatterpolar"
           }
          ],
          "scatterpolargl": [
           {
            "marker": {
             "colorbar": {
              "outlinewidth": 0,
              "ticks": ""
             }
            },
            "type": "scatterpolargl"
           }
          ],
          "scatterternary": [
           {
            "marker": {
             "colorbar": {
              "outlinewidth": 0,
              "ticks": ""
             }
            },
            "type": "scatterternary"
           }
          ],
          "surface": [
           {
            "colorbar": {
             "outlinewidth": 0,
             "ticks": ""
            },
            "colorscale": [
             [
              0,
              "#0d0887"
             ],
             [
              0.1111111111111111,
              "#46039f"
             ],
             [
              0.2222222222222222,
              "#7201a8"
             ],
             [
              0.3333333333333333,
              "#9c179e"
             ],
             [
              0.4444444444444444,
              "#bd3786"
             ],
             [
              0.5555555555555556,
              "#d8576b"
             ],
             [
              0.6666666666666666,
              "#ed7953"
             ],
             [
              0.7777777777777778,
              "#fb9f3a"
             ],
             [
              0.8888888888888888,
              "#fdca26"
             ],
             [
              1,
              "#f0f921"
             ]
            ],
            "type": "surface"
           }
          ],
          "table": [
           {
            "cells": {
             "fill": {
              "color": "#EBF0F8"
             },
             "line": {
              "color": "white"
             }
            },
            "header": {
             "fill": {
              "color": "#C8D4E3"
             },
             "line": {
              "color": "white"
             }
            },
            "type": "table"
           }
          ]
         },
         "layout": {
          "annotationdefaults": {
           "arrowcolor": "#2a3f5f",
           "arrowhead": 0,
           "arrowwidth": 1
          },
          "autotypenumbers": "strict",
          "coloraxis": {
           "colorbar": {
            "outlinewidth": 0,
            "ticks": ""
           }
          },
          "colorscale": {
           "diverging": [
            [
             0,
             "#8e0152"
            ],
            [
             0.1,
             "#c51b7d"
            ],
            [
             0.2,
             "#de77ae"
            ],
            [
             0.3,
             "#f1b6da"
            ],
            [
             0.4,
             "#fde0ef"
            ],
            [
             0.5,
             "#f7f7f7"
            ],
            [
             0.6,
             "#e6f5d0"
            ],
            [
             0.7,
             "#b8e186"
            ],
            [
             0.8,
             "#7fbc41"
            ],
            [
             0.9,
             "#4d9221"
            ],
            [
             1,
             "#276419"
            ]
           ],
           "sequential": [
            [
             0,
             "#0d0887"
            ],
            [
             0.1111111111111111,
             "#46039f"
            ],
            [
             0.2222222222222222,
             "#7201a8"
            ],
            [
             0.3333333333333333,
             "#9c179e"
            ],
            [
             0.4444444444444444,
             "#bd3786"
            ],
            [
             0.5555555555555556,
             "#d8576b"
            ],
            [
             0.6666666666666666,
             "#ed7953"
            ],
            [
             0.7777777777777778,
             "#fb9f3a"
            ],
            [
             0.8888888888888888,
             "#fdca26"
            ],
            [
             1,
             "#f0f921"
            ]
           ],
           "sequentialminus": [
            [
             0,
             "#0d0887"
            ],
            [
             0.1111111111111111,
             "#46039f"
            ],
            [
             0.2222222222222222,
             "#7201a8"
            ],
            [
             0.3333333333333333,
             "#9c179e"
            ],
            [
             0.4444444444444444,
             "#bd3786"
            ],
            [
             0.5555555555555556,
             "#d8576b"
            ],
            [
             0.6666666666666666,
             "#ed7953"
            ],
            [
             0.7777777777777778,
             "#fb9f3a"
            ],
            [
             0.8888888888888888,
             "#fdca26"
            ],
            [
             1,
             "#f0f921"
            ]
           ]
          },
          "colorway": [
           "#636efa",
           "#EF553B",
           "#00cc96",
           "#ab63fa",
           "#FFA15A",
           "#19d3f3",
           "#FF6692",
           "#B6E880",
           "#FF97FF",
           "#FECB52"
          ],
          "font": {
           "color": "#2a3f5f"
          },
          "geo": {
           "bgcolor": "white",
           "lakecolor": "white",
           "landcolor": "#E5ECF6",
           "showlakes": true,
           "showland": true,
           "subunitcolor": "white"
          },
          "hoverlabel": {
           "align": "left"
          },
          "hovermode": "closest",
          "mapbox": {
           "style": "light"
          },
          "paper_bgcolor": "white",
          "plot_bgcolor": "#E5ECF6",
          "polar": {
           "angularaxis": {
            "gridcolor": "white",
            "linecolor": "white",
            "ticks": ""
           },
           "bgcolor": "#E5ECF6",
           "radialaxis": {
            "gridcolor": "white",
            "linecolor": "white",
            "ticks": ""
           }
          },
          "scene": {
           "xaxis": {
            "backgroundcolor": "#E5ECF6",
            "gridcolor": "white",
            "gridwidth": 2,
            "linecolor": "white",
            "showbackground": true,
            "ticks": "",
            "zerolinecolor": "white"
           },
           "yaxis": {
            "backgroundcolor": "#E5ECF6",
            "gridcolor": "white",
            "gridwidth": 2,
            "linecolor": "white",
            "showbackground": true,
            "ticks": "",
            "zerolinecolor": "white"
           },
           "zaxis": {
            "backgroundcolor": "#E5ECF6",
            "gridcolor": "white",
            "gridwidth": 2,
            "linecolor": "white",
            "showbackground": true,
            "ticks": "",
            "zerolinecolor": "white"
           }
          },
          "shapedefaults": {
           "line": {
            "color": "#2a3f5f"
           }
          },
          "ternary": {
           "aaxis": {
            "gridcolor": "white",
            "linecolor": "white",
            "ticks": ""
           },
           "baxis": {
            "gridcolor": "white",
            "linecolor": "white",
            "ticks": ""
           },
           "bgcolor": "#E5ECF6",
           "caxis": {
            "gridcolor": "white",
            "linecolor": "white",
            "ticks": ""
           }
          },
          "title": {
           "x": 0.05
          },
          "xaxis": {
           "automargin": true,
           "gridcolor": "white",
           "linecolor": "white",
           "ticks": "",
           "title": {
            "standoff": 15
           },
           "zerolinecolor": "white",
           "zerolinewidth": 2
          },
          "yaxis": {
           "automargin": true,
           "gridcolor": "white",
           "linecolor": "white",
           "ticks": "",
           "title": {
            "standoff": 15
           },
           "zerolinecolor": "white",
           "zerolinewidth": 2
          }
         }
        },
        "title": {
         "text": "100 most common words"
        },
        "width": 2000,
        "xaxis": {
         "anchor": "y",
         "domain": [
          0,
          1
         ],
         "title": {
          "text": "x"
         }
        },
        "yaxis": {
         "anchor": "x",
         "domain": [
          0,
          1
         ],
         "title": {
          "text": "y"
         }
        }
       }
      },
      "text/html": [
       "<div>                            <div id=\"816c631a-3cd9-4228-b61c-b8382486beec\" class=\"plotly-graph-div\" style=\"height:500px; width:2000px;\"></div>            <script type=\"text/javascript\">                require([\"plotly\"], function(Plotly) {                    window.PLOTLYENV=window.PLOTLYENV || {};                                    if (document.getElementById(\"816c631a-3cd9-4228-b61c-b8382486beec\")) {                    Plotly.newPlot(                        \"816c631a-3cd9-4228-b61c-b8382486beec\",                        [{\"alignmentgroup\":\"True\",\"hovertemplate\":\"x=%{x}<br>y=%{y}<extra></extra>\",\"legendgroup\":\"\",\"marker\":{\"color\":\"#636efa\",\"pattern\":{\"shape\":\"\"}},\"name\":\"\",\"offsetgroup\":\"\",\"orientation\":\"v\",\"showlegend\":false,\"textposition\":\"auto\",\"x\":[\"time\",\"said\",\"like\",\"life\",\"night\",\"eyes\",\"little\",\"great\",\"long\",\"came\",\"thought\",\"death\",\"mind\",\"heart\",\"things\",\"shall\",\"heard\",\"house\",\"thing\",\"left\",\"years\",\"felt\",\"place\",\"earth\",\"know\",\"love\",\"world\",\"light\",\"come\",\"room\",\"door\",\"head\",\"having\",\"away\",\"hand\",\"words\",\"nature\",\"strange\",\"seen\",\"length\",\"good\",\"friend\",\"human\",\"knew\",\"raymond\",\"voice\",\"soon\",\"father\",\"half\",\"moment\",\"fear\",\"gave\",\"soul\",\"looked\",\"small\",\"body\",\"young\",\"near\",\"took\",\"city\",\"dark\",\"days\",\"certain\",\"passed\",\"went\",\"told\",\"appeared\",\"course\",\"face\",\"think\",\"high\",\"dead\",\"open\",\"spirit\",\"point\",\"black\",\"horror\",\"idea\",\"hope\",\"water\",\"deep\",\"feet\",\"tell\",\"matter\",\"form\",\"began\",\"known\",\"right\",\"kind\",\"look\",\"turned\",\"lost\",\"moon\",\"street\",\"manner\",\"morning\",\"called\",\"hours\",\"brought\",\"present\"],\"xaxis\":\"x\",\"y\":[730,704,613,569,566,540,531,512,511,461,442,396,378,375,369,368,366,366,356,354,346,343,340,337,337,332,323,320,314,304,303,300,296,295,292,292,286,283,282,278,277,275,274,273,272,271,270,267,262,259,241,238,232,231,231,228,228,228,227,226,223,220,220,219,217,217,215,214,212,208,205,203,203,202,200,198,198,195,195,195,191,190,188,187,187,187,186,186,185,181,181,181,179,178,177,177,173,172,170,170],\"yaxis\":\"y\",\"type\":\"bar\"}],                        {\"template\":{\"data\":{\"bar\":[{\"error_x\":{\"color\":\"#2a3f5f\"},\"error_y\":{\"color\":\"#2a3f5f\"},\"marker\":{\"line\":{\"color\":\"#E5ECF6\",\"width\":0.5},\"pattern\":{\"fillmode\":\"overlay\",\"size\":10,\"solidity\":0.2}},\"type\":\"bar\"}],\"barpolar\":[{\"marker\":{\"line\":{\"color\":\"#E5ECF6\",\"width\":0.5},\"pattern\":{\"fillmode\":\"overlay\",\"size\":10,\"solidity\":0.2}},\"type\":\"barpolar\"}],\"carpet\":[{\"aaxis\":{\"endlinecolor\":\"#2a3f5f\",\"gridcolor\":\"white\",\"linecolor\":\"white\",\"minorgridcolor\":\"white\",\"startlinecolor\":\"#2a3f5f\"},\"baxis\":{\"endlinecolor\":\"#2a3f5f\",\"gridcolor\":\"white\",\"linecolor\":\"white\",\"minorgridcolor\":\"white\",\"startlinecolor\":\"#2a3f5f\"},\"type\":\"carpet\"}],\"choropleth\":[{\"colorbar\":{\"outlinewidth\":0,\"ticks\":\"\"},\"type\":\"choropleth\"}],\"contour\":[{\"colorbar\":{\"outlinewidth\":0,\"ticks\":\"\"},\"colorscale\":[[0.0,\"#0d0887\"],[0.1111111111111111,\"#46039f\"],[0.2222222222222222,\"#7201a8\"],[0.3333333333333333,\"#9c179e\"],[0.4444444444444444,\"#bd3786\"],[0.5555555555555556,\"#d8576b\"],[0.6666666666666666,\"#ed7953\"],[0.7777777777777778,\"#fb9f3a\"],[0.8888888888888888,\"#fdca26\"],[1.0,\"#f0f921\"]],\"type\":\"contour\"}],\"contourcarpet\":[{\"colorbar\":{\"outlinewidth\":0,\"ticks\":\"\"},\"type\":\"contourcarpet\"}],\"heatmap\":[{\"colorbar\":{\"outlinewidth\":0,\"ticks\":\"\"},\"colorscale\":[[0.0,\"#0d0887\"],[0.1111111111111111,\"#46039f\"],[0.2222222222222222,\"#7201a8\"],[0.3333333333333333,\"#9c179e\"],[0.4444444444444444,\"#bd3786\"],[0.5555555555555556,\"#d8576b\"],[0.6666666666666666,\"#ed7953\"],[0.7777777777777778,\"#fb9f3a\"],[0.8888888888888888,\"#fdca26\"],[1.0,\"#f0f921\"]],\"type\":\"heatmap\"}],\"heatmapgl\":[{\"colorbar\":{\"outlinewidth\":0,\"ticks\":\"\"},\"colorscale\":[[0.0,\"#0d0887\"],[0.1111111111111111,\"#46039f\"],[0.2222222222222222,\"#7201a8\"],[0.3333333333333333,\"#9c179e\"],[0.4444444444444444,\"#bd3786\"],[0.5555555555555556,\"#d8576b\"],[0.6666666666666666,\"#ed7953\"],[0.7777777777777778,\"#fb9f3a\"],[0.8888888888888888,\"#fdca26\"],[1.0,\"#f0f921\"]],\"type\":\"heatmapgl\"}],\"histogram\":[{\"marker\":{\"pattern\":{\"fillmode\":\"overlay\",\"size\":10,\"solidity\":0.2}},\"type\":\"histogram\"}],\"histogram2d\":[{\"colorbar\":{\"outlinewidth\":0,\"ticks\":\"\"},\"colorscale\":[[0.0,\"#0d0887\"],[0.1111111111111111,\"#46039f\"],[0.2222222222222222,\"#7201a8\"],[0.3333333333333333,\"#9c179e\"],[0.4444444444444444,\"#bd3786\"],[0.5555555555555556,\"#d8576b\"],[0.6666666666666666,\"#ed7953\"],[0.7777777777777778,\"#fb9f3a\"],[0.8888888888888888,\"#fdca26\"],[1.0,\"#f0f921\"]],\"type\":\"histogram2d\"}],\"histogram2dcontour\":[{\"colorbar\":{\"outlinewidth\":0,\"ticks\":\"\"},\"colorscale\":[[0.0,\"#0d0887\"],[0.1111111111111111,\"#46039f\"],[0.2222222222222222,\"#7201a8\"],[0.3333333333333333,\"#9c179e\"],[0.4444444444444444,\"#bd3786\"],[0.5555555555555556,\"#d8576b\"],[0.6666666666666666,\"#ed7953\"],[0.7777777777777778,\"#fb9f3a\"],[0.8888888888888888,\"#fdca26\"],[1.0,\"#f0f921\"]],\"type\":\"histogram2dcontour\"}],\"mesh3d\":[{\"colorbar\":{\"outlinewidth\":0,\"ticks\":\"\"},\"type\":\"mesh3d\"}],\"parcoords\":[{\"line\":{\"colorbar\":{\"outlinewidth\":0,\"ticks\":\"\"}},\"type\":\"parcoords\"}],\"pie\":[{\"automargin\":true,\"type\":\"pie\"}],\"scatter\":[{\"marker\":{\"colorbar\":{\"outlinewidth\":0,\"ticks\":\"\"}},\"type\":\"scatter\"}],\"scatter3d\":[{\"line\":{\"colorbar\":{\"outlinewidth\":0,\"ticks\":\"\"}},\"marker\":{\"colorbar\":{\"outlinewidth\":0,\"ticks\":\"\"}},\"type\":\"scatter3d\"}],\"scattercarpet\":[{\"marker\":{\"colorbar\":{\"outlinewidth\":0,\"ticks\":\"\"}},\"type\":\"scattercarpet\"}],\"scattergeo\":[{\"marker\":{\"colorbar\":{\"outlinewidth\":0,\"ticks\":\"\"}},\"type\":\"scattergeo\"}],\"scattergl\":[{\"marker\":{\"colorbar\":{\"outlinewidth\":0,\"ticks\":\"\"}},\"type\":\"scattergl\"}],\"scattermapbox\":[{\"marker\":{\"colorbar\":{\"outlinewidth\":0,\"ticks\":\"\"}},\"type\":\"scattermapbox\"}],\"scatterpolar\":[{\"marker\":{\"colorbar\":{\"outlinewidth\":0,\"ticks\":\"\"}},\"type\":\"scatterpolar\"}],\"scatterpolargl\":[{\"marker\":{\"colorbar\":{\"outlinewidth\":0,\"ticks\":\"\"}},\"type\":\"scatterpolargl\"}],\"scatterternary\":[{\"marker\":{\"colorbar\":{\"outlinewidth\":0,\"ticks\":\"\"}},\"type\":\"scatterternary\"}],\"surface\":[{\"colorbar\":{\"outlinewidth\":0,\"ticks\":\"\"},\"colorscale\":[[0.0,\"#0d0887\"],[0.1111111111111111,\"#46039f\"],[0.2222222222222222,\"#7201a8\"],[0.3333333333333333,\"#9c179e\"],[0.4444444444444444,\"#bd3786\"],[0.5555555555555556,\"#d8576b\"],[0.6666666666666666,\"#ed7953\"],[0.7777777777777778,\"#fb9f3a\"],[0.8888888888888888,\"#fdca26\"],[1.0,\"#f0f921\"]],\"type\":\"surface\"}],\"table\":[{\"cells\":{\"fill\":{\"color\":\"#EBF0F8\"},\"line\":{\"color\":\"white\"}},\"header\":{\"fill\":{\"color\":\"#C8D4E3\"},\"line\":{\"color\":\"white\"}},\"type\":\"table\"}]},\"layout\":{\"annotationdefaults\":{\"arrowcolor\":\"#2a3f5f\",\"arrowhead\":0,\"arrowwidth\":1},\"autotypenumbers\":\"strict\",\"coloraxis\":{\"colorbar\":{\"outlinewidth\":0,\"ticks\":\"\"}},\"colorscale\":{\"diverging\":[[0,\"#8e0152\"],[0.1,\"#c51b7d\"],[0.2,\"#de77ae\"],[0.3,\"#f1b6da\"],[0.4,\"#fde0ef\"],[0.5,\"#f7f7f7\"],[0.6,\"#e6f5d0\"],[0.7,\"#b8e186\"],[0.8,\"#7fbc41\"],[0.9,\"#4d9221\"],[1,\"#276419\"]],\"sequential\":[[0.0,\"#0d0887\"],[0.1111111111111111,\"#46039f\"],[0.2222222222222222,\"#7201a8\"],[0.3333333333333333,\"#9c179e\"],[0.4444444444444444,\"#bd3786\"],[0.5555555555555556,\"#d8576b\"],[0.6666666666666666,\"#ed7953\"],[0.7777777777777778,\"#fb9f3a\"],[0.8888888888888888,\"#fdca26\"],[1.0,\"#f0f921\"]],\"sequentialminus\":[[0.0,\"#0d0887\"],[0.1111111111111111,\"#46039f\"],[0.2222222222222222,\"#7201a8\"],[0.3333333333333333,\"#9c179e\"],[0.4444444444444444,\"#bd3786\"],[0.5555555555555556,\"#d8576b\"],[0.6666666666666666,\"#ed7953\"],[0.7777777777777778,\"#fb9f3a\"],[0.8888888888888888,\"#fdca26\"],[1.0,\"#f0f921\"]]},\"colorway\":[\"#636efa\",\"#EF553B\",\"#00cc96\",\"#ab63fa\",\"#FFA15A\",\"#19d3f3\",\"#FF6692\",\"#B6E880\",\"#FF97FF\",\"#FECB52\"],\"font\":{\"color\":\"#2a3f5f\"},\"geo\":{\"bgcolor\":\"white\",\"lakecolor\":\"white\",\"landcolor\":\"#E5ECF6\",\"showlakes\":true,\"showland\":true,\"subunitcolor\":\"white\"},\"hoverlabel\":{\"align\":\"left\"},\"hovermode\":\"closest\",\"mapbox\":{\"style\":\"light\"},\"paper_bgcolor\":\"white\",\"plot_bgcolor\":\"#E5ECF6\",\"polar\":{\"angularaxis\":{\"gridcolor\":\"white\",\"linecolor\":\"white\",\"ticks\":\"\"},\"bgcolor\":\"#E5ECF6\",\"radialaxis\":{\"gridcolor\":\"white\",\"linecolor\":\"white\",\"ticks\":\"\"}},\"scene\":{\"xaxis\":{\"backgroundcolor\":\"#E5ECF6\",\"gridcolor\":\"white\",\"gridwidth\":2,\"linecolor\":\"white\",\"showbackground\":true,\"ticks\":\"\",\"zerolinecolor\":\"white\"},\"yaxis\":{\"backgroundcolor\":\"#E5ECF6\",\"gridcolor\":\"white\",\"gridwidth\":2,\"linecolor\":\"white\",\"showbackground\":true,\"ticks\":\"\",\"zerolinecolor\":\"white\"},\"zaxis\":{\"backgroundcolor\":\"#E5ECF6\",\"gridcolor\":\"white\",\"gridwidth\":2,\"linecolor\":\"white\",\"showbackground\":true,\"ticks\":\"\",\"zerolinecolor\":\"white\"}},\"shapedefaults\":{\"line\":{\"color\":\"#2a3f5f\"}},\"ternary\":{\"aaxis\":{\"gridcolor\":\"white\",\"linecolor\":\"white\",\"ticks\":\"\"},\"baxis\":{\"gridcolor\":\"white\",\"linecolor\":\"white\",\"ticks\":\"\"},\"bgcolor\":\"#E5ECF6\",\"caxis\":{\"gridcolor\":\"white\",\"linecolor\":\"white\",\"ticks\":\"\"}},\"title\":{\"x\":0.05},\"xaxis\":{\"automargin\":true,\"gridcolor\":\"white\",\"linecolor\":\"white\",\"ticks\":\"\",\"title\":{\"standoff\":15},\"zerolinecolor\":\"white\",\"zerolinewidth\":2},\"yaxis\":{\"automargin\":true,\"gridcolor\":\"white\",\"linecolor\":\"white\",\"ticks\":\"\",\"title\":{\"standoff\":15},\"zerolinecolor\":\"white\",\"zerolinewidth\":2}}},\"xaxis\":{\"anchor\":\"y\",\"domain\":[0.0,1.0],\"title\":{\"text\":\"x\"}},\"yaxis\":{\"anchor\":\"x\",\"domain\":[0.0,1.0],\"title\":{\"text\":\"y\"}},\"legend\":{\"tracegroupgap\":0},\"title\":{\"text\":\"100 most common words\"},\"barmode\":\"relative\",\"height\":500,\"width\":2000},                        {\"responsive\": true}                    ).then(function(){\n",
       "                            \n",
       "var gd = document.getElementById('816c631a-3cd9-4228-b61c-b8382486beec');\n",
       "var x = new MutationObserver(function (mutations, observer) {{\n",
       "        var display = window.getComputedStyle(gd).display;\n",
       "        if (!display || display === 'none') {{\n",
       "            console.log([gd, 'removed!']);\n",
       "            Plotly.purge(gd);\n",
       "            observer.disconnect();\n",
       "        }}\n",
       "}});\n",
       "\n",
       "// Listen for the removal of the full notebook cells\n",
       "var notebookContainer = gd.closest('#notebook-container');\n",
       "if (notebookContainer) {{\n",
       "    x.observe(notebookContainer, {childList: true});\n",
       "}}\n",
       "\n",
       "// Listen for the clearing of the current output cell\n",
       "var outputEl = gd.closest('.output');\n",
       "if (outputEl) {{\n",
       "    x.observe(outputEl, {childList: true});\n",
       "}}\n",
       "\n",
       "                        })                };                });            </script>        </div>"
      ]
     },
     "metadata": {},
     "output_type": "display_data"
    }
   ],
   "source": [
    "from collections import Counter\n",
    "common_words = Counter(text).most_common(100)\n",
    "\n",
    "import plotly.express as px\n",
    "y = [count for tag, count in common_words]\n",
    "x = [tag for tag, count in common_words]\n",
    "fig = px.bar(x=x, y=y, title='100 most common words', width=2000, height=500)\n",
    "fig.show()"
   ]
  },
  {
   "cell_type": "markdown",
   "metadata": {
    "id": "4N86AaGNDMVa"
   },
   "source": [
    "#### NMF"
   ]
  },
  {
   "cell_type": "markdown",
   "metadata": {
    "id": "kPelcAFQDMVa"
   },
   "source": [
    "Topic modeling with NMF."
   ]
  },
  {
   "cell_type": "code",
   "execution_count": 410,
   "metadata": {
    "id": "DCPzCMMMDMVa"
   },
   "outputs": [],
   "source": [
    "from operator import itemgetter\n",
    "from gensim.models.coherencemodel import CoherenceModel"
   ]
  },
  {
   "cell_type": "code",
   "execution_count": null,
   "metadata": {},
   "outputs": [],
   "source": [
    "from gensim import corpora, models\n",
    "tfidf = models.TfidfModel(bow_corpus)\n",
    "corpus_tfidf = tfidf[bow_corpus]"
   ]
  },
  {
   "cell_type": "code",
   "execution_count": null,
   "metadata": {},
   "outputs": [],
   "source": [
    "dictionary = gensim.corpora.Dictionary(data_processed.text)\n",
    "dictionary.filter_extremes(no_below=15, no_above=0.5, keep_n=100000)\n",
    "bow_corpus = [dictionary.doc2bow(doc) for doc in data_processed.text]"
   ]
  },
  {
   "cell_type": "code",
   "execution_count": 399,
   "metadata": {},
   "outputs": [
    {
     "data": {
      "application/vnd.jupyter.widget-view+json": {
       "model_id": "fc680e0365e74892819ced5a9c8436be",
       "version_major": 2,
       "version_minor": 0
      },
      "text/plain": [
       "  0%|          | 0/8 [00:00<?, ?it/s]"
      ]
     },
     "metadata": {},
     "output_type": "display_data"
    }
   ],
   "source": [
    "coherence_scores = []\n",
    "topic_nums = list(np.arange(5, 41, 5))\n",
    "\n",
    "for num in tqdm(topic_nums):\n",
    "    nmf = models.Nmf(\n",
    "        corpus=corpus_tfidf,\n",
    "        num_topics=num,\n",
    "        id2word=dictionary,\n",
    "        chunksize=2000,\n",
    "        passes=2,\n",
    "        kappa=.1,\n",
    "        minimum_probability=0.01,\n",
    "        w_max_iter=300,\n",
    "        w_stop_condition=0.0001,\n",
    "        h_max_iter=100,\n",
    "        h_stop_condition=0.001,\n",
    "        eval_every=10,\n",
    "        normalize=True,\n",
    "        random_state=42\n",
    "    )\n",
    "    \n",
    "    # Run the coherence model to get the score\n",
    "    cm = CoherenceModel(\n",
    "        model=nmf,\n",
    "        texts=data_processed.text,\n",
    "        dictionary=dictionary,\n",
    "        coherence='c_v'\n",
    "    )\n",
    "    \n",
    "    coherence_scores.append(round(cm.get_coherence(), 5))"
   ]
  },
  {
   "cell_type": "code",
   "execution_count": 401,
   "metadata": {},
   "outputs": [
    {
     "name": "stdout",
     "output_type": "stream",
     "text": [
      "[(5, 0.20519), (10, 0.26541), (15, 0.27247), (20, 0.29413), (25, 0.33219), (30, 0.35114), (35, 0.3852), (40, 0.38119)]\n"
     ]
    }
   ],
   "source": [
    "# Get the number of topics with the highest coherence score\n",
    "scores = list(zip(topic_nums, coherence_scores))\n",
    "\n",
    "print(scores)"
   ]
  },
  {
   "cell_type": "markdown",
   "metadata": {},
   "source": [
    "According to the coherence metric, we should make 35 topics"
   ]
  },
  {
   "cell_type": "code",
   "execution_count": 407,
   "metadata": {},
   "outputs": [
    {
     "name": "stdout",
     "output_type": "stream",
     "text": [
      "Topic: 0 Word: 0.114*\"little\" + 0.077*\"return\" + 0.015*\"point\" + 0.015*\"reason\" + 0.014*\"life\" + 0.014*\"possible\" + 0.014*\"times\" + 0.013*\"home\" + 0.012*\"question\" + 0.008*\"promise\"\n",
      "\n",
      "Topic: 1 Word: 0.068*\"dream\" + 0.043*\"great\" + 0.037*\"child\" + 0.023*\"grew\" + 0.022*\"face\" + 0.021*\"born\" + 0.021*\"called\" + 0.018*\"wall\" + 0.015*\"continued\" + 0.015*\"dark\"\n",
      "\n",
      "Topic: 2 Word: 0.099*\"heart\" + 0.043*\"looked\" + 0.032*\"think\" + 0.028*\"fear\" + 0.023*\"returned\" + 0.019*\"remember\" + 0.019*\"imagination\" + 0.018*\"days\" + 0.017*\"raymond\" + 0.015*\"perdita\"\n",
      "\n",
      "Topic: 3 Word: 0.280*\"said\" + 0.040*\"world\" + 0.030*\"dead\" + 0.017*\"dupin\" + 0.016*\"replied\" + 0.013*\"certainly\" + 0.010*\"alas\" + 0.008*\"knowledge\" + 0.007*\"better\" + 0.007*\"wish\"\n",
      "\n",
      "Topic: 4 Word: 0.073*\"thing\" + 0.058*\"love\" + 0.030*\"looked\" + 0.025*\"length\" + 0.016*\"remained\" + 0.012*\"subject\" + 0.011*\"despair\" + 0.011*\"till\" + 0.011*\"guess\" + 0.011*\"sought\"\n",
      "\n",
      "Topic: 5 Word: 0.082*\"course\" + 0.052*\"earth\" + 0.038*\"life\" + 0.023*\"fact\" + 0.020*\"doubt\" + 0.019*\"cold\" + 0.018*\"appeared\" + 0.014*\"vain\" + 0.012*\"chamber\" + 0.012*\"human\"\n",
      "\n",
      "Topic: 6 Word: 0.067*\"came\" + 0.063*\"long\" + 0.057*\"nature\" + 0.041*\"thing\" + 0.035*\"body\" + 0.015*\"hours\" + 0.014*\"sleep\" + 0.012*\"small\" + 0.011*\"soul\" + 0.011*\"hope\"\n",
      "\n",
      "Topic: 7 Word: 0.159*\"knew\" + 0.043*\"state\" + 0.027*\"face\" + 0.014*\"away\" + 0.013*\"expression\" + 0.011*\"body\" + 0.008*\"higher\" + 0.008*\"evil\" + 0.007*\"passage\" + 0.006*\"idris\"\n",
      "\n",
      "Topic: 8 Word: 0.056*\"dead\" + 0.028*\"object\" + 0.028*\"half\" + 0.026*\"look\" + 0.021*\"horror\" + 0.019*\"morning\" + 0.019*\"cause\" + 0.016*\"form\" + 0.012*\"taken\" + 0.011*\"distance\"\n",
      "\n",
      "Topic: 9 Word: 0.153*\"felt\" + 0.022*\"nature\" + 0.020*\"length\" + 0.016*\"pain\" + 0.013*\"common\" + 0.013*\"reason\" + 0.008*\"truth\" + 0.008*\"unknown\" + 0.006*\"vague\" + 0.006*\"arms\"\n",
      "\n",
      "Topic: 10 Word: 0.043*\"moment\" + 0.028*\"green\" + 0.024*\"mere\" + 0.020*\"light\" + 0.019*\"replied\" + 0.017*\"boat\" + 0.017*\"curious\" + 0.017*\"idea\" + 0.015*\"perdita\" + 0.013*\"present\"\n",
      "\n",
      "Topic: 11 Word: 0.127*\"shall\" + 0.038*\"left\" + 0.038*\"speak\" + 0.036*\"truth\" + 0.035*\"raymond\" + 0.020*\"right\" + 0.016*\"late\" + 0.015*\"length\" + 0.015*\"wonder\" + 0.012*\"hands\"\n",
      "\n",
      "Topic: 12 Word: 0.182*\"night\" + 0.133*\"said\" + 0.024*\"sleep\" + 0.019*\"dear\" + 0.015*\"came\" + 0.015*\"remained\" + 0.014*\"morning\" + 0.009*\"leave\" + 0.009*\"impossible\" + 0.008*\"drawing\"\n",
      "\n",
      "Topic: 13 Word: 0.070*\"friend\" + 0.035*\"lost\" + 0.031*\"eyes\" + 0.014*\"answer\" + 0.014*\"certain\" + 0.013*\"face\" + 0.013*\"diddle\" + 0.012*\"taken\" + 0.011*\"bore\" + 0.010*\"terrible\"\n",
      "\n",
      "Topic: 14 Word: 0.101*\"words\" + 0.047*\"place\" + 0.032*\"father\" + 0.021*\"period\" + 0.018*\"hours\" + 0.016*\"room\" + 0.012*\"feet\" + 0.011*\"window\" + 0.010*\"remained\" + 0.010*\"clock\"\n",
      "\n",
      "Topic: 15 Word: 0.060*\"death\" + 0.046*\"mind\" + 0.035*\"point\" + 0.024*\"think\" + 0.022*\"thou\" + 0.014*\"doubt\" + 0.013*\"city\" + 0.011*\"period\" + 0.011*\"beneath\" + 0.010*\"book\"\n",
      "\n",
      "Topic: 16 Word: 0.084*\"soon\" + 0.082*\"left\" + 0.042*\"great\" + 0.026*\"sight\" + 0.016*\"possible\" + 0.012*\"beneath\" + 0.010*\"hill\" + 0.010*\"queer\" + 0.009*\"year\" + 0.008*\"dark\"\n",
      "\n",
      "Topic: 17 Word: 0.079*\"told\" + 0.052*\"change\" + 0.051*\"water\" + 0.040*\"time\" + 0.031*\"open\" + 0.014*\"short\" + 0.014*\"reached\" + 0.013*\"country\" + 0.010*\"known\" + 0.009*\"town\"\n",
      "\n",
      "Topic: 18 Word: 0.082*\"seen\" + 0.028*\"dear\" + 0.026*\"city\" + 0.026*\"general\" + 0.021*\"entered\" + 0.018*\"away\" + 0.015*\"line\" + 0.014*\"shall\" + 0.014*\"died\" + 0.014*\"effect\"\n",
      "\n",
      "Topic: 19 Word: 0.118*\"said\" + 0.092*\"come\" + 0.070*\"present\" + 0.027*\"manner\" + 0.012*\"friend\" + 0.012*\"talk\" + 0.010*\"enjoy\" + 0.010*\"gave\" + 0.010*\"young\" + 0.009*\"secret\"\n",
      "\n",
      "Topic: 20 Word: 0.118*\"like\" + 0.049*\"adrian\" + 0.028*\"great\" + 0.028*\"look\" + 0.027*\"spoke\" + 0.022*\"near\" + 0.021*\"happy\" + 0.019*\"right\" + 0.017*\"things\" + 0.016*\"trees\"\n",
      "\n",
      "Topic: 21 Word: 0.071*\"room\" + 0.039*\"head\" + 0.038*\"poor\" + 0.037*\"time\" + 0.019*\"fell\" + 0.015*\"having\" + 0.011*\"floor\" + 0.010*\"perdita\" + 0.010*\"good\" + 0.009*\"strange\"\n",
      "\n",
      "Topic: 22 Word: 0.074*\"went\" + 0.061*\"door\" + 0.056*\"came\" + 0.051*\"come\" + 0.028*\"open\" + 0.021*\"proceeded\" + 0.013*\"hold\" + 0.011*\"heart\" + 0.010*\"love\" + 0.010*\"hear\"\n",
      "\n",
      "Topic: 23 Word: 0.101*\"hand\" + 0.060*\"death\" + 0.051*\"good\" + 0.042*\"believe\" + 0.023*\"head\" + 0.020*\"things\" + 0.015*\"moon\" + 0.011*\"near\" + 0.009*\"moment\" + 0.009*\"forced\"\n",
      "\n",
      "Topic: 24 Word: 0.092*\"time\" + 0.072*\"life\" + 0.024*\"mind\" + 0.019*\"entirely\" + 0.017*\"black\" + 0.015*\"gave\" + 0.015*\"watched\" + 0.012*\"space\" + 0.010*\"motion\" + 0.009*\"resolved\"\n",
      "\n",
      "Topic: 25 Word: 0.065*\"world\" + 0.046*\"thought\" + 0.030*\"like\" + 0.023*\"brought\" + 0.019*\"stood\" + 0.018*\"ordinary\" + 0.017*\"thoughts\" + 0.015*\"form\" + 0.010*\"close\" + 0.010*\"light\"\n",
      "\n",
      "Topic: 26 Word: 0.051*\"eyes\" + 0.031*\"passed\" + 0.024*\"large\" + 0.020*\"word\" + 0.017*\"beauty\" + 0.015*\"gentle\" + 0.013*\"blue\" + 0.011*\"result\" + 0.011*\"instance\" + 0.010*\"head\"\n",
      "\n",
      "Topic: 27 Word: 0.067*\"little\" + 0.041*\"great\" + 0.037*\"feel\" + 0.031*\"earth\" + 0.031*\"soul\" + 0.020*\"light\" + 0.020*\"means\" + 0.018*\"days\" + 0.018*\"gave\" + 0.016*\"power\"\n",
      "\n",
      "Topic: 28 Word: 0.062*\"matter\" + 0.050*\"things\" + 0.040*\"voice\" + 0.035*\"half\" + 0.031*\"better\" + 0.030*\"idea\" + 0.027*\"took\" + 0.021*\"work\" + 0.018*\"need\" + 0.012*\"family\"\n",
      "\n",
      "Topic: 29 Word: 0.081*\"years\" + 0.039*\"passed\" + 0.029*\"spirit\" + 0.024*\"lived\" + 0.018*\"remember\" + 0.014*\"thing\" + 0.013*\"appeared\" + 0.013*\"year\" + 0.012*\"paper\" + 0.010*\"memory\"\n",
      "\n",
      "Topic: 30 Word: 0.081*\"tell\" + 0.052*\"true\" + 0.051*\"night\" + 0.050*\"thought\" + 0.025*\"good\" + 0.020*\"fear\" + 0.011*\"diddler\" + 0.011*\"desire\" + 0.009*\"appeared\" + 0.009*\"home\"\n",
      "\n",
      "Topic: 31 Word: 0.052*\"long\" + 0.049*\"street\" + 0.038*\"young\" + 0.028*\"place\" + 0.018*\"land\" + 0.017*\"strange\" + 0.011*\"dark\" + 0.010*\"taken\" + 0.010*\"feet\" + 0.009*\"west\"\n",
      "\n",
      "Topic: 32 Word: 0.091*\"house\" + 0.026*\"person\" + 0.023*\"mean\" + 0.023*\"small\" + 0.015*\"question\" + 0.013*\"sense\" + 0.009*\"word\" + 0.008*\"sound\" + 0.008*\"people\" + 0.008*\"windsor\"\n",
      "\n",
      "Topic: 33 Word: 0.136*\"heard\" + 0.041*\"thought\" + 0.023*\"died\" + 0.021*\"door\" + 0.013*\"sounds\" + 0.010*\"windows\" + 0.009*\"broken\" + 0.008*\"simple\" + 0.008*\"voices\" + 0.007*\"sound\"\n",
      "\n",
      "Topic: 34 Word: 0.214*\"know\" + 0.030*\"gone\" + 0.029*\"strange\" + 0.019*\"things\" + 0.013*\"thousand\" + 0.009*\"human\" + 0.007*\"diddler\" + 0.007*\"sunday\" + 0.007*\"mother\" + 0.006*\"prince\"\n",
      "\n"
     ]
    }
   ],
   "source": [
    "nmf = models.Nmf(\n",
    "        corpus=corpus_tfidf,\n",
    "        num_topics=35,\n",
    "        id2word=dictionary,\n",
    "        chunksize=2000,\n",
    "        passes=2,\n",
    "        kappa=.1,\n",
    "        minimum_probability=0.01,\n",
    "        w_max_iter=300,\n",
    "        w_stop_condition=0.0001,\n",
    "        h_max_iter=100,\n",
    "        h_stop_condition=0.001,\n",
    "        eval_every=10,\n",
    "        normalize=True,\n",
    "        random_state=42\n",
    "    )\n",
    "\n",
    "for idx, topic in nmf.print_topics(-1):\n",
    "    print('Topic: {} Word: {}\\n'.format(idx, topic))"
   ]
  },
  {
   "cell_type": "markdown",
   "metadata": {
    "id": "zuaKAGIWDMVb"
   },
   "source": [
    "#### LDA"
   ]
  },
  {
   "cell_type": "markdown",
   "metadata": {
    "id": "PAK_MfQxDMVb"
   },
   "source": [
    "Topic modeling with LDA."
   ]
  },
  {
   "cell_type": "code",
   "execution_count": 409,
   "metadata": {},
   "outputs": [
    {
     "data": {
      "application/vnd.jupyter.widget-view+json": {
       "model_id": "d4c726a5600244b48f29de04a9cb6643",
       "version_major": 2,
       "version_minor": 0
      },
      "text/plain": [
       "  0%|          | 0/8 [00:00<?, ?it/s]"
      ]
     },
     "metadata": {},
     "output_type": "display_data"
    },
    {
     "name": "stdout",
     "output_type": "stream",
     "text": [
      "[(5, 0.39373), (10, 0.43747), (15, 0.39229), (20, 0.41082), (25, 0.39201), (30, 0.41112), (35, 0.40038), (40, 0.39399)]\n"
     ]
    }
   ],
   "source": [
    "coherence_scores = []\n",
    "topic_nums = list(np.arange(5, 41, 5))\n",
    "\n",
    "for num in tqdm(topic_nums):\n",
    "    LDA = models.LdaMulticore(\n",
    "        corpus_tfidf, \n",
    "        num_topics=35, \n",
    "        id2word=dictionary, \n",
    "        passes=2\n",
    "    )\n",
    "    \n",
    "    # Run the coherence model to get the score\n",
    "    cm = CoherenceModel(\n",
    "        model=LDA,\n",
    "        texts=data_processed.text,\n",
    "        dictionary=dictionary,\n",
    "        coherence='c_v'\n",
    "    )\n",
    "    \n",
    "    coherence_scores.append(round(cm.get_coherence(), 5))\n",
    "    \n",
    "# Get the number of topics with the highest coherence score\n",
    "scores = list(zip(topic_nums, coherence_scores))\n",
    "\n",
    "print(scores)"
   ]
  },
  {
   "cell_type": "markdown",
   "metadata": {},
   "source": [
    "According to coherence score, most useful topic number is 10"
   ]
  },
  {
   "cell_type": "code",
   "execution_count": 430,
   "metadata": {
    "id": "fdzopuCJDMVb"
   },
   "outputs": [],
   "source": [
    "lda_model_tfidf = models.LdaMulticore(\n",
    "        corpus_tfidf, \n",
    "        num_topics=10, \n",
    "        id2word=dictionary, \n",
    "        passes=2\n",
    "    )"
   ]
  },
  {
   "cell_type": "code",
   "execution_count": 431,
   "metadata": {},
   "outputs": [
    {
     "name": "stdout",
     "output_type": "stream",
     "text": [
      "Topic: 0 Word: 0.005*\"hand\" + 0.004*\"know\" + 0.003*\"hours\" + 0.003*\"soon\" + 0.003*\"little\" + 0.003*\"life\" + 0.003*\"shall\" + 0.003*\"time\" + 0.003*\"great\" + 0.003*\"kind\"\n",
      "\n",
      "Topic: 1 Word: 0.005*\"thought\" + 0.005*\"matter\" + 0.004*\"long\" + 0.004*\"little\" + 0.004*\"time\" + 0.004*\"life\" + 0.003*\"case\" + 0.003*\"said\" + 0.003*\"length\" + 0.003*\"like\"\n",
      "\n",
      "Topic: 2 Word: 0.006*\"know\" + 0.005*\"love\" + 0.003*\"black\" + 0.003*\"like\" + 0.003*\"look\" + 0.003*\"right\" + 0.003*\"nature\" + 0.003*\"replied\" + 0.003*\"come\" + 0.003*\"question\"\n",
      "\n",
      "Topic: 3 Word: 0.004*\"eyes\" + 0.003*\"house\" + 0.003*\"went\" + 0.003*\"night\" + 0.003*\"father\" + 0.003*\"said\" + 0.003*\"little\" + 0.003*\"seen\" + 0.003*\"soon\" + 0.003*\"time\"\n",
      "\n",
      "Topic: 4 Word: 0.006*\"said\" + 0.004*\"words\" + 0.004*\"looked\" + 0.004*\"shall\" + 0.003*\"means\" + 0.003*\"time\" + 0.003*\"nearly\" + 0.003*\"long\" + 0.003*\"small\" + 0.002*\"know\"\n",
      "\n",
      "Topic: 5 Word: 0.005*\"said\" + 0.004*\"shall\" + 0.004*\"thing\" + 0.003*\"fear\" + 0.003*\"night\" + 0.003*\"like\" + 0.003*\"death\" + 0.003*\"remember\" + 0.003*\"place\" + 0.003*\"little\"\n",
      "\n",
      "Topic: 6 Word: 0.004*\"time\" + 0.004*\"felt\" + 0.003*\"heard\" + 0.003*\"raymond\" + 0.003*\"said\" + 0.003*\"earth\" + 0.003*\"night\" + 0.003*\"voice\" + 0.003*\"house\" + 0.003*\"like\"\n",
      "\n",
      "Topic: 7 Word: 0.009*\"said\" + 0.006*\"came\" + 0.005*\"night\" + 0.004*\"door\" + 0.004*\"like\" + 0.004*\"long\" + 0.003*\"course\" + 0.003*\"time\" + 0.003*\"room\" + 0.003*\"minute\"\n",
      "\n",
      "Topic: 8 Word: 0.005*\"come\" + 0.004*\"tell\" + 0.004*\"great\" + 0.004*\"said\" + 0.003*\"left\" + 0.003*\"knew\" + 0.003*\"dream\" + 0.003*\"came\" + 0.003*\"thing\" + 0.003*\"time\"\n",
      "\n",
      "Topic: 9 Word: 0.005*\"time\" + 0.004*\"thing\" + 0.004*\"life\" + 0.003*\"like\" + 0.003*\"human\" + 0.003*\"took\" + 0.003*\"adrian\" + 0.003*\"eyes\" + 0.003*\"great\" + 0.003*\"long\"\n",
      "\n"
     ]
    }
   ],
   "source": [
    "for idx, topic in lda_model_tfidf.print_topics(-1):\n",
    "    print('Topic: {} Word: {}\\n'.format(idx, topic))"
   ]
  }
 ],
 "metadata": {
  "colab": {
   "name": "Copy of HW1.ipynb",
   "provenance": []
  },
  "kernelspec": {
   "display_name": "Python 3 (ipykernel)",
   "language": "python",
   "name": "python3"
  },
  "language_info": {
   "codemirror_mode": {
    "name": "ipython",
    "version": 3
   },
   "file_extension": ".py",
   "mimetype": "text/x-python",
   "name": "python",
   "nbconvert_exporter": "python",
   "pygments_lexer": "ipython3",
   "version": "3.9.9"
  },
  "toc": {
   "base_numbering": 1,
   "nav_menu": {},
   "number_sections": true,
   "sideBar": true,
   "skip_h1_title": false,
   "title_cell": "Table of Contents",
   "title_sidebar": "Contents",
   "toc_cell": false,
   "toc_position": {},
   "toc_section_display": true,
   "toc_window_display": false
  }
 },
 "nbformat": 4,
 "nbformat_minor": 4
}
